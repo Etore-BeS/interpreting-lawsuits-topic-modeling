{
 "cells": [
  {
   "cell_type": "markdown",
   "metadata": {},
   "source": [
    "# 02 - Exploratory Data Analysis\n",
    "This notebook performs exploratory data analysis on the preprocessed data."
   ]
  },
  {
   "cell_type": "markdown",
   "metadata": {},
   "source": [
    "## 1. Import Required Libraries"
   ]
  },
  {
   "cell_type": "code",
   "execution_count": 3,
   "metadata": {},
   "outputs": [],
   "source": [
    "import pandas as pd\n",
    "import numpy as np\n",
    "import plotly.express as px\n",
    "import plotly.graph_objects as go\n",
    "from plotly.subplots import make_subplots\n",
    "import matplotlib.pyplot as plt\n",
    "import seaborn as sns\n",
    "from collections import Counter\n",
    "\n",
    "# Set display options\n",
    "pd.set_option('display.max_columns', None)\n",
    "pd.set_option('display.max_colwidth', 200)\n",
    "plt.style.use('ggplot')"
   ]
  },
  {
   "cell_type": "markdown",
   "metadata": {},
   "source": [
    "## 2. Load Processed Data"
   ]
  },
  {
   "cell_type": "code",
   "execution_count": 5,
   "metadata": {},
   "outputs": [
    {
     "name": "stdout",
     "output_type": "stream",
     "text": [
      "DataFrame Info:\n",
      "<class 'pandas.core.frame.DataFrame'>\n",
      "RangeIndex: 11 entries, 0 to 10\n",
      "Data columns (total 28 columns):\n",
      " #   Column                Non-Null Count  Dtype  \n",
      "---  ------                --------------  -----  \n",
      " 0   processo              11 non-null     float64\n",
      " 1   Classe 1ª Instância   11 non-null     object \n",
      " 2   Assunto 1ª Instância  11 non-null     object \n",
      " 3   Comarca 1ª Instância  11 non-null     object \n",
      " 4   foro                  11 non-null     object \n",
      " 5   vara                  11 non-null     object \n",
      " 6   julgado               11 non-null     object \n",
      " 7   cod_doc               11 non-null     object \n",
      " 8   Instância             11 non-null     object \n",
      " 9   sentença              11 non-null     object \n",
      " 10  Comarca               11 non-null     object \n",
      " 11  Requerinte            11 non-null     object \n",
      " 12  Réu                   11 non-null     object \n",
      " 13  Assunto 2ª Instância  0 non-null      float64\n",
      " 14  Classe 2ª Instância   0 non-null      float64\n",
      " 15  cd_processo           0 non-null      float64\n",
      " 16  data                  0 non-null      float64\n",
      " 17  dispositivo           0 non-null      float64\n",
      " 18  cdacordao             0 non-null      float64\n",
      " 19  Comarca 2ª Instância  0 non-null      float64\n",
      " 20  orgao_julgador        0 non-null      float64\n",
      " 21  ementa                0 non-null      float64\n",
      " 22  Recurso 2º Grau       0 non-null      float64\n",
      " 23  cd_doc                0 non-null      float64\n",
      " 24  Assunto 2º Instância  0 non-null      float64\n",
      " 25  latitude              11 non-null     float64\n",
      " 26  longitude             11 non-null     float64\n",
      " 27  processed_text        11 non-null     object \n",
      "dtypes: float64(15), object(13)\n",
      "memory usage: 2.5+ KB\n",
      "\n",
      "First few rows:\n"
     ]
    },
    {
     "data": {
      "text/html": [
       "<div>\n",
       "<style scoped>\n",
       "    .dataframe tbody tr th:only-of-type {\n",
       "        vertical-align: middle;\n",
       "    }\n",
       "\n",
       "    .dataframe tbody tr th {\n",
       "        vertical-align: top;\n",
       "    }\n",
       "\n",
       "    .dataframe thead th {\n",
       "        text-align: right;\n",
       "    }\n",
       "</style>\n",
       "<table border=\"1\" class=\"dataframe\">\n",
       "  <thead>\n",
       "    <tr style=\"text-align: right;\">\n",
       "      <th></th>\n",
       "      <th>processo</th>\n",
       "      <th>Classe 1ª Instância</th>\n",
       "      <th>Assunto 1ª Instância</th>\n",
       "      <th>Comarca 1ª Instância</th>\n",
       "      <th>foro</th>\n",
       "      <th>vara</th>\n",
       "      <th>julgado</th>\n",
       "      <th>cod_doc</th>\n",
       "      <th>Instância</th>\n",
       "      <th>sentença</th>\n",
       "      <th>Comarca</th>\n",
       "      <th>Requerinte</th>\n",
       "      <th>Réu</th>\n",
       "      <th>Assunto 2ª Instância</th>\n",
       "      <th>Classe 2ª Instância</th>\n",
       "      <th>cd_processo</th>\n",
       "      <th>data</th>\n",
       "      <th>dispositivo</th>\n",
       "      <th>cdacordao</th>\n",
       "      <th>Comarca 2ª Instância</th>\n",
       "      <th>orgao_julgador</th>\n",
       "      <th>ementa</th>\n",
       "      <th>Recurso 2º Grau</th>\n",
       "      <th>cd_doc</th>\n",
       "      <th>Assunto 2º Instância</th>\n",
       "      <th>latitude</th>\n",
       "      <th>longitude</th>\n",
       "      <th>processed_text</th>\n",
       "    </tr>\n",
       "  </thead>\n",
       "  <tbody>\n",
       "    <tr>\n",
       "      <th>0</th>\n",
       "      <td>3.463420e+15</td>\n",
       "      <td>Cumprimento de Sentença contra a Fazenda Pública</td>\n",
       "      <td>PROFISSIONAIS DE APOIO</td>\n",
       "      <td>Taquaritinga</td>\n",
       "      <td>Foro de Taquaritinga</td>\n",
       "      <td>Juizado Especial Cível e Criminal</td>\n",
       "      <td>TRIBUNAL DE JUSTIÇA DO ESTADO DE SÃO PAULO COMARCA de Taquaritinga Foro de Taquaritinga Juizado Especial Cível e Criminal Rua Visconde do Rio Branco, 71, Taquaritinga-SP - cep 15900-000 Horário de...</td>\n",
       "      <td>H70005JZY0000-619-PG5ARQA-45511889</td>\n",
       "      <td>1º Instância</td>\n",
       "      <td>procedente</td>\n",
       "      <td>taquaritinga</td>\n",
       "      <td>Pessoa Física</td>\n",
       "      <td>Estado</td>\n",
       "      <td>NaN</td>\n",
       "      <td>NaN</td>\n",
       "      <td>NaN</td>\n",
       "      <td>NaN</td>\n",
       "      <td>NaN</td>\n",
       "      <td>NaN</td>\n",
       "      <td>NaN</td>\n",
       "      <td>NaN</td>\n",
       "      <td>NaN</td>\n",
       "      <td>NaN</td>\n",
       "      <td>NaN</td>\n",
       "      <td>NaN</td>\n",
       "      <td>-21.425208</td>\n",
       "      <td>-48.537399</td>\n",
       "      <td>[Paulo, taquaritinga, taquaritinga, cível, criminal, rua, visconder, Rio, branco, taquaritinga, sp, cep, horário, atendimento, Min, Min, laudar, digital, classe, assunto, cumprimento, fazendo, púb...</td>\n",
       "    </tr>\n",
       "    <tr>\n",
       "      <th>1</th>\n",
       "      <td>1.001941e+19</td>\n",
       "      <td>Mandado de Segurança Cível</td>\n",
       "      <td>Estabelecimentos de Ensino</td>\n",
       "      <td>Presidente Epitácio</td>\n",
       "      <td>Foro de Presidente Epitácio</td>\n",
       "      <td>1ª Vara</td>\n",
       "      <td>TRIBUNAL DE JUSTIÇA DO ESTADO DE SÃO PAULO COMARCA de Presidente Epitácio Foro de Presidente Epitácio 1ª Vara Av.Presidente Vargas 1-31, Presidente Epitacio - SP - cep 19470-000 Horário de Atendim...</td>\n",
       "      <td>DD0004XTS0000-481-PG5PP-84166446</td>\n",
       "      <td>1º Instância</td>\n",
       "      <td>procedente</td>\n",
       "      <td>presidente epitacio</td>\n",
       "      <td>Pessoa Física</td>\n",
       "      <td>Escola Pública</td>\n",
       "      <td>NaN</td>\n",
       "      <td>NaN</td>\n",
       "      <td>NaN</td>\n",
       "      <td>NaN</td>\n",
       "      <td>NaN</td>\n",
       "      <td>NaN</td>\n",
       "      <td>NaN</td>\n",
       "      <td>NaN</td>\n",
       "      <td>NaN</td>\n",
       "      <td>NaN</td>\n",
       "      <td>NaN</td>\n",
       "      <td>NaN</td>\n",
       "      <td>-21.765074</td>\n",
       "      <td>-52.111140</td>\n",
       "      <td>[Paulo, presidente, epitácio, presidente, epitácio, av, presidente, Vargas, presidente, epitacio, sp, cep, horário, atendimento, Min, Min, laudar, digital, classe, assunto, segurança, cível, ensin...</td>\n",
       "    </tr>\n",
       "    <tr>\n",
       "      <th>2</th>\n",
       "      <td>1.003939e+19</td>\n",
       "      <td>Procedimento do Juizado Especial Cível</td>\n",
       "      <td>Prestação de Serviços</td>\n",
       "      <td>Cerqueira César</td>\n",
       "      <td>Foro de Cerqueira César</td>\n",
       "      <td>Juizado Especial Cível e Criminal</td>\n",
       "      <td>TRIBUNAL DE JUSTIÇA DO ESTADO DE SÃO PAULO COMARCA de Cerqueira César Foro de Cerqueira César Juizado Especial Cível e Criminal Rua Olimpio Pavan nº 355, Cerqueira Cesar - SP - cep 18760-000 10039...</td>\n",
       "      <td>210004Q3A0000-136-PG5ARCT-114815115</td>\n",
       "      <td>1º Instância</td>\n",
       "      <td>procedente</td>\n",
       "      <td>cerqueira cesar</td>\n",
       "      <td>Pessoa Física</td>\n",
       "      <td>Pessoa Física</td>\n",
       "      <td>NaN</td>\n",
       "      <td>NaN</td>\n",
       "      <td>NaN</td>\n",
       "      <td>NaN</td>\n",
       "      <td>NaN</td>\n",
       "      <td>NaN</td>\n",
       "      <td>NaN</td>\n",
       "      <td>NaN</td>\n",
       "      <td>NaN</td>\n",
       "      <td>NaN</td>\n",
       "      <td>NaN</td>\n",
       "      <td>NaN</td>\n",
       "      <td>-23.035314</td>\n",
       "      <td>-49.165052</td>\n",
       "      <td>[Paulo, Cerqueira, césar, cerqueirar, césar, cível, criminal, rua, olimpio, pavan, cerqueira, cesar, sp, cep, laudar, classe, assunto, procedimento, cível, prestação, serviço, unesvi, união, Ensin...</td>\n",
       "    </tr>\n",
       "    <tr>\n",
       "      <th>3</th>\n",
       "      <td>1.007129e+19</td>\n",
       "      <td>Mandado de Segurança Cível</td>\n",
       "      <td>Estabelecimentos de Ensino</td>\n",
       "      <td>Lins</td>\n",
       "      <td>Foro de Lins</td>\n",
       "      <td>2ª Vara Cível</td>\n",
       "      <td>TRIBUNAL DE JUSTIÇA DO ESTADO DE SÃO PAULO COMARCA de Lins - Foro de Lins - 2ª Vara Cível Rua Gil Pimentel Moura, 51, Centro CEP: 16400-920 - Lins - SP Telefone: (14) 3511-1525 - E-mail: Lins2cv@t...</td>\n",
       "      <td>8Y0003PG10000-322-PG5ARCT-114470170</td>\n",
       "      <td>1º Instância</td>\n",
       "      <td>parcial</td>\n",
       "      <td>lins</td>\n",
       "      <td>Pessoa Física</td>\n",
       "      <td>Pessoa Física</td>\n",
       "      <td>NaN</td>\n",
       "      <td>NaN</td>\n",
       "      <td>NaN</td>\n",
       "      <td>NaN</td>\n",
       "      <td>NaN</td>\n",
       "      <td>NaN</td>\n",
       "      <td>NaN</td>\n",
       "      <td>NaN</td>\n",
       "      <td>NaN</td>\n",
       "      <td>NaN</td>\n",
       "      <td>NaN</td>\n",
       "      <td>NaN</td>\n",
       "      <td>-21.649421</td>\n",
       "      <td>-49.682866</td>\n",
       "      <td>[Paulo, lins, Lins, cível, rua, Gil, pimentel, Moura, Centro, cep, lim, sp, telefone, Mail, Lins, cv, jus, br, horário, atendimento, Min, Min, laudar, digital, classe, assunto, segurança, cível, E...</td>\n",
       "    </tr>\n",
       "    <tr>\n",
       "      <th>4</th>\n",
       "      <td>1.000134e+19</td>\n",
       "      <td>Procedimento Comum Cível</td>\n",
       "      <td>Matrícula - Ausência de Pré-Requisito</td>\n",
       "      <td>Rosana</td>\n",
       "      <td>Foro de Rosana</td>\n",
       "      <td>Vara Única</td>\n",
       "      <td>TRIBUNAL DE JUSTIÇA DO ESTADO DE SÃO PAULO COMARCA de Rosana Foro de Rosana Vara Única Rua Curimbatá, 788/802 QD 12 - D. Primavera, Primavera - SP - cep 19274-000 Horário de Atendimento ao Público...</td>\n",
       "      <td>EB00018UI0000-515-PG5SJCA-131051340</td>\n",
       "      <td>1º Instância</td>\n",
       "      <td>procedente</td>\n",
       "      <td>rosana</td>\n",
       "      <td>Pessoa Física</td>\n",
       "      <td>Estado</td>\n",
       "      <td>NaN</td>\n",
       "      <td>NaN</td>\n",
       "      <td>NaN</td>\n",
       "      <td>NaN</td>\n",
       "      <td>NaN</td>\n",
       "      <td>NaN</td>\n",
       "      <td>NaN</td>\n",
       "      <td>NaN</td>\n",
       "      <td>NaN</td>\n",
       "      <td>NaN</td>\n",
       "      <td>NaN</td>\n",
       "      <td>NaN</td>\n",
       "      <td>-22.488279</td>\n",
       "      <td>-52.836266</td>\n",
       "      <td>[Paulo, rosano, rosano, único, rua, curimbatá, qd, primavera, primavera, sp, cep, horário, atendimento, Min, Min, laudar, digital, classe, assunto, procedimento, comum, cível, acesso, matrículo, a...</td>\n",
       "    </tr>\n",
       "  </tbody>\n",
       "</table>\n",
       "</div>"
      ],
      "text/plain": [
       "       processo                               Classe 1ª Instância  \\\n",
       "0  3.463420e+15  Cumprimento de Sentença contra a Fazenda Pública   \n",
       "1  1.001941e+19                        Mandado de Segurança Cível   \n",
       "2  1.003939e+19            Procedimento do Juizado Especial Cível   \n",
       "3  1.007129e+19                        Mandado de Segurança Cível   \n",
       "4  1.000134e+19                          Procedimento Comum Cível   \n",
       "\n",
       "                    Assunto 1ª Instância Comarca 1ª Instância  \\\n",
       "0                 PROFISSIONAIS DE APOIO         Taquaritinga   \n",
       "1             Estabelecimentos de Ensino  Presidente Epitácio   \n",
       "2                  Prestação de Serviços      Cerqueira César   \n",
       "3             Estabelecimentos de Ensino                 Lins   \n",
       "4  Matrícula - Ausência de Pré-Requisito               Rosana   \n",
       "\n",
       "                          foro                               vara  \\\n",
       "0         Foro de Taquaritinga  Juizado Especial Cível e Criminal   \n",
       "1  Foro de Presidente Epitácio                            1ª Vara   \n",
       "2      Foro de Cerqueira César  Juizado Especial Cível e Criminal   \n",
       "3                 Foro de Lins                      2ª Vara Cível   \n",
       "4               Foro de Rosana                         Vara Única   \n",
       "\n",
       "                                                                                                                                                                                                   julgado  \\\n",
       "0  TRIBUNAL DE JUSTIÇA DO ESTADO DE SÃO PAULO COMARCA de Taquaritinga Foro de Taquaritinga Juizado Especial Cível e Criminal Rua Visconde do Rio Branco, 71, Taquaritinga-SP - cep 15900-000 Horário de...   \n",
       "1  TRIBUNAL DE JUSTIÇA DO ESTADO DE SÃO PAULO COMARCA de Presidente Epitácio Foro de Presidente Epitácio 1ª Vara Av.Presidente Vargas 1-31, Presidente Epitacio - SP - cep 19470-000 Horário de Atendim...   \n",
       "2  TRIBUNAL DE JUSTIÇA DO ESTADO DE SÃO PAULO COMARCA de Cerqueira César Foro de Cerqueira César Juizado Especial Cível e Criminal Rua Olimpio Pavan nº 355, Cerqueira Cesar - SP - cep 18760-000 10039...   \n",
       "3  TRIBUNAL DE JUSTIÇA DO ESTADO DE SÃO PAULO COMARCA de Lins - Foro de Lins - 2ª Vara Cível Rua Gil Pimentel Moura, 51, Centro CEP: 16400-920 - Lins - SP Telefone: (14) 3511-1525 - E-mail: Lins2cv@t...   \n",
       "4  TRIBUNAL DE JUSTIÇA DO ESTADO DE SÃO PAULO COMARCA de Rosana Foro de Rosana Vara Única Rua Curimbatá, 788/802 QD 12 - D. Primavera, Primavera - SP - cep 19274-000 Horário de Atendimento ao Público...   \n",
       "\n",
       "                               cod_doc     Instância    sentença  \\\n",
       "0   H70005JZY0000-619-PG5ARQA-45511889  1º Instância  procedente   \n",
       "1     DD0004XTS0000-481-PG5PP-84166446  1º Instância  procedente   \n",
       "2  210004Q3A0000-136-PG5ARCT-114815115  1º Instância  procedente   \n",
       "3  8Y0003PG10000-322-PG5ARCT-114470170  1º Instância     parcial   \n",
       "4  EB00018UI0000-515-PG5SJCA-131051340  1º Instância  procedente   \n",
       "\n",
       "               Comarca     Requerinte             Réu  Assunto 2ª Instância  \\\n",
       "0         taquaritinga  Pessoa Física          Estado                   NaN   \n",
       "1  presidente epitacio  Pessoa Física  Escola Pública                   NaN   \n",
       "2      cerqueira cesar  Pessoa Física   Pessoa Física                   NaN   \n",
       "3                 lins  Pessoa Física   Pessoa Física                   NaN   \n",
       "4               rosana  Pessoa Física          Estado                   NaN   \n",
       "\n",
       "   Classe 2ª Instância  cd_processo  data  dispositivo  cdacordao  \\\n",
       "0                  NaN          NaN   NaN          NaN        NaN   \n",
       "1                  NaN          NaN   NaN          NaN        NaN   \n",
       "2                  NaN          NaN   NaN          NaN        NaN   \n",
       "3                  NaN          NaN   NaN          NaN        NaN   \n",
       "4                  NaN          NaN   NaN          NaN        NaN   \n",
       "\n",
       "   Comarca 2ª Instância  orgao_julgador  ementa  Recurso 2º Grau  cd_doc  \\\n",
       "0                   NaN             NaN     NaN              NaN     NaN   \n",
       "1                   NaN             NaN     NaN              NaN     NaN   \n",
       "2                   NaN             NaN     NaN              NaN     NaN   \n",
       "3                   NaN             NaN     NaN              NaN     NaN   \n",
       "4                   NaN             NaN     NaN              NaN     NaN   \n",
       "\n",
       "   Assunto 2º Instância   latitude  longitude  \\\n",
       "0                   NaN -21.425208 -48.537399   \n",
       "1                   NaN -21.765074 -52.111140   \n",
       "2                   NaN -23.035314 -49.165052   \n",
       "3                   NaN -21.649421 -49.682866   \n",
       "4                   NaN -22.488279 -52.836266   \n",
       "\n",
       "                                                                                                                                                                                            processed_text  \n",
       "0  [Paulo, taquaritinga, taquaritinga, cível, criminal, rua, visconder, Rio, branco, taquaritinga, sp, cep, horário, atendimento, Min, Min, laudar, digital, classe, assunto, cumprimento, fazendo, púb...  \n",
       "1  [Paulo, presidente, epitácio, presidente, epitácio, av, presidente, Vargas, presidente, epitacio, sp, cep, horário, atendimento, Min, Min, laudar, digital, classe, assunto, segurança, cível, ensin...  \n",
       "2  [Paulo, Cerqueira, césar, cerqueirar, césar, cível, criminal, rua, olimpio, pavan, cerqueira, cesar, sp, cep, laudar, classe, assunto, procedimento, cível, prestação, serviço, unesvi, união, Ensin...  \n",
       "3  [Paulo, lins, Lins, cível, rua, Gil, pimentel, Moura, Centro, cep, lim, sp, telefone, Mail, Lins, cv, jus, br, horário, atendimento, Min, Min, laudar, digital, classe, assunto, segurança, cível, E...  \n",
       "4  [Paulo, rosano, rosano, único, rua, curimbatá, qd, primavera, primavera, sp, cep, horário, atendimento, Min, Min, laudar, digital, classe, assunto, procedimento, comum, cível, acesso, matrículo, a...  "
      ]
     },
     "execution_count": 5,
     "metadata": {},
     "output_type": "execute_result"
    }
   ],
   "source": [
    "# Load processed data\n",
    "df = pd.read_json('../data/processed/data_processed_test.json', lines=True)\n",
    "\n",
    "# Display basic info\n",
    "print(\"DataFrame Info:\")\n",
    "df.info()\n",
    "print(\"\\nFirst few rows:\")\n",
    "df.head()"
   ]
  },
  {
   "cell_type": "code",
   "execution_count": 6,
   "metadata": {},
   "outputs": [
    {
     "data": {
      "text/html": [
       "<div>\n",
       "<style scoped>\n",
       "    .dataframe tbody tr th:only-of-type {\n",
       "        vertical-align: middle;\n",
       "    }\n",
       "\n",
       "    .dataframe tbody tr th {\n",
       "        vertical-align: top;\n",
       "    }\n",
       "\n",
       "    .dataframe thead th {\n",
       "        text-align: right;\n",
       "    }\n",
       "</style>\n",
       "<table border=\"1\" class=\"dataframe\">\n",
       "  <thead>\n",
       "    <tr style=\"text-align: right;\">\n",
       "      <th></th>\n",
       "      <th>processo</th>\n",
       "      <th>Classe 1ª Instância</th>\n",
       "      <th>Assunto 1ª Instância</th>\n",
       "      <th>Comarca 1ª Instância</th>\n",
       "      <th>foro</th>\n",
       "      <th>vara</th>\n",
       "      <th>julgado</th>\n",
       "      <th>cod_doc</th>\n",
       "      <th>Instância</th>\n",
       "      <th>sentença</th>\n",
       "      <th>Comarca</th>\n",
       "      <th>Requerinte</th>\n",
       "      <th>Réu</th>\n",
       "      <th>Assunto 2ª Instância</th>\n",
       "      <th>Classe 2ª Instância</th>\n",
       "      <th>cd_processo</th>\n",
       "      <th>data</th>\n",
       "      <th>dispositivo</th>\n",
       "      <th>cdacordao</th>\n",
       "      <th>Comarca 2ª Instância</th>\n",
       "      <th>orgao_julgador</th>\n",
       "      <th>ementa</th>\n",
       "      <th>Recurso 2º Grau</th>\n",
       "      <th>cd_doc</th>\n",
       "      <th>Assunto 2º Instância</th>\n",
       "      <th>latitude</th>\n",
       "      <th>longitude</th>\n",
       "      <th>processed_text</th>\n",
       "    </tr>\n",
       "  </thead>\n",
       "  <tbody>\n",
       "    <tr>\n",
       "      <th>count</th>\n",
       "      <td>1.100000e+01</td>\n",
       "      <td>11</td>\n",
       "      <td>11</td>\n",
       "      <td>11</td>\n",
       "      <td>11</td>\n",
       "      <td>11</td>\n",
       "      <td>11</td>\n",
       "      <td>11</td>\n",
       "      <td>11</td>\n",
       "      <td>11</td>\n",
       "      <td>11</td>\n",
       "      <td>11</td>\n",
       "      <td>11</td>\n",
       "      <td>0.0</td>\n",
       "      <td>0.0</td>\n",
       "      <td>0.0</td>\n",
       "      <td>0.0</td>\n",
       "      <td>0.0</td>\n",
       "      <td>0.0</td>\n",
       "      <td>0.0</td>\n",
       "      <td>0.0</td>\n",
       "      <td>0.0</td>\n",
       "      <td>0.0</td>\n",
       "      <td>0.0</td>\n",
       "      <td>0.0</td>\n",
       "      <td>11.000000</td>\n",
       "      <td>11.000000</td>\n",
       "      <td>11</td>\n",
       "    </tr>\n",
       "    <tr>\n",
       "      <th>unique</th>\n",
       "      <td>NaN</td>\n",
       "      <td>5</td>\n",
       "      <td>7</td>\n",
       "      <td>11</td>\n",
       "      <td>11</td>\n",
       "      <td>7</td>\n",
       "      <td>11</td>\n",
       "      <td>11</td>\n",
       "      <td>1</td>\n",
       "      <td>3</td>\n",
       "      <td>11</td>\n",
       "      <td>1</td>\n",
       "      <td>3</td>\n",
       "      <td>NaN</td>\n",
       "      <td>NaN</td>\n",
       "      <td>NaN</td>\n",
       "      <td>NaN</td>\n",
       "      <td>NaN</td>\n",
       "      <td>NaN</td>\n",
       "      <td>NaN</td>\n",
       "      <td>NaN</td>\n",
       "      <td>NaN</td>\n",
       "      <td>NaN</td>\n",
       "      <td>NaN</td>\n",
       "      <td>NaN</td>\n",
       "      <td>NaN</td>\n",
       "      <td>NaN</td>\n",
       "      <td>11</td>\n",
       "    </tr>\n",
       "    <tr>\n",
       "      <th>top</th>\n",
       "      <td>NaN</td>\n",
       "      <td>Procedimento Comum Cível</td>\n",
       "      <td>PROFISSIONAIS DE APOIO</td>\n",
       "      <td>Taquaritinga</td>\n",
       "      <td>Foro de Taquaritinga</td>\n",
       "      <td>Juizado Especial Cível e Criminal</td>\n",
       "      <td>TRIBUNAL DE JUSTIÇA DO ESTADO DE SÃO PAULO COMARCA de Taquaritinga Foro de Taquaritinga Juizado Especial Cível e Criminal Rua Visconde do Rio Branco, 71, Taquaritinga-SP - cep 15900-000 Horário de...</td>\n",
       "      <td>H70005JZY0000-619-PG5ARQA-45511889</td>\n",
       "      <td>1º Instância</td>\n",
       "      <td>procedente</td>\n",
       "      <td>taquaritinga</td>\n",
       "      <td>Pessoa Física</td>\n",
       "      <td>Estado</td>\n",
       "      <td>NaN</td>\n",
       "      <td>NaN</td>\n",
       "      <td>NaN</td>\n",
       "      <td>NaN</td>\n",
       "      <td>NaN</td>\n",
       "      <td>NaN</td>\n",
       "      <td>NaN</td>\n",
       "      <td>NaN</td>\n",
       "      <td>NaN</td>\n",
       "      <td>NaN</td>\n",
       "      <td>NaN</td>\n",
       "      <td>NaN</td>\n",
       "      <td>NaN</td>\n",
       "      <td>NaN</td>\n",
       "      <td>[Paulo, taquaritinga, taquaritinga, cível, criminal, rua, visconder, Rio, branco, taquaritinga, sp, cep, horário, atendimento, Min, Min, laudar, digital, classe, assunto, cumprimento, fazendo, púb...</td>\n",
       "    </tr>\n",
       "    <tr>\n",
       "      <th>freq</th>\n",
       "      <td>NaN</td>\n",
       "      <td>6</td>\n",
       "      <td>2</td>\n",
       "      <td>1</td>\n",
       "      <td>1</td>\n",
       "      <td>3</td>\n",
       "      <td>1</td>\n",
       "      <td>1</td>\n",
       "      <td>11</td>\n",
       "      <td>7</td>\n",
       "      <td>1</td>\n",
       "      <td>11</td>\n",
       "      <td>7</td>\n",
       "      <td>NaN</td>\n",
       "      <td>NaN</td>\n",
       "      <td>NaN</td>\n",
       "      <td>NaN</td>\n",
       "      <td>NaN</td>\n",
       "      <td>NaN</td>\n",
       "      <td>NaN</td>\n",
       "      <td>NaN</td>\n",
       "      <td>NaN</td>\n",
       "      <td>NaN</td>\n",
       "      <td>NaN</td>\n",
       "      <td>NaN</td>\n",
       "      <td>NaN</td>\n",
       "      <td>NaN</td>\n",
       "      <td>1</td>\n",
       "    </tr>\n",
       "    <tr>\n",
       "      <th>mean</th>\n",
       "      <td>8.200390e+18</td>\n",
       "      <td>NaN</td>\n",
       "      <td>NaN</td>\n",
       "      <td>NaN</td>\n",
       "      <td>NaN</td>\n",
       "      <td>NaN</td>\n",
       "      <td>NaN</td>\n",
       "      <td>NaN</td>\n",
       "      <td>NaN</td>\n",
       "      <td>NaN</td>\n",
       "      <td>NaN</td>\n",
       "      <td>NaN</td>\n",
       "      <td>NaN</td>\n",
       "      <td>NaN</td>\n",
       "      <td>NaN</td>\n",
       "      <td>NaN</td>\n",
       "      <td>NaN</td>\n",
       "      <td>NaN</td>\n",
       "      <td>NaN</td>\n",
       "      <td>NaN</td>\n",
       "      <td>NaN</td>\n",
       "      <td>NaN</td>\n",
       "      <td>NaN</td>\n",
       "      <td>NaN</td>\n",
       "      <td>NaN</td>\n",
       "      <td>-22.125617</td>\n",
       "      <td>-49.032649</td>\n",
       "      <td>NaN</td>\n",
       "    </tr>\n",
       "    <tr>\n",
       "      <th>std</th>\n",
       "      <td>4.053214e+18</td>\n",
       "      <td>NaN</td>\n",
       "      <td>NaN</td>\n",
       "      <td>NaN</td>\n",
       "      <td>NaN</td>\n",
       "      <td>NaN</td>\n",
       "      <td>NaN</td>\n",
       "      <td>NaN</td>\n",
       "      <td>NaN</td>\n",
       "      <td>NaN</td>\n",
       "      <td>NaN</td>\n",
       "      <td>NaN</td>\n",
       "      <td>NaN</td>\n",
       "      <td>NaN</td>\n",
       "      <td>NaN</td>\n",
       "      <td>NaN</td>\n",
       "      <td>NaN</td>\n",
       "      <td>NaN</td>\n",
       "      <td>NaN</td>\n",
       "      <td>NaN</td>\n",
       "      <td>NaN</td>\n",
       "      <td>NaN</td>\n",
       "      <td>NaN</td>\n",
       "      <td>NaN</td>\n",
       "      <td>NaN</td>\n",
       "      <td>0.616990</td>\n",
       "      <td>1.899863</td>\n",
       "      <td>NaN</td>\n",
       "    </tr>\n",
       "    <tr>\n",
       "      <th>min</th>\n",
       "      <td>1.442920e+15</td>\n",
       "      <td>NaN</td>\n",
       "      <td>NaN</td>\n",
       "      <td>NaN</td>\n",
       "      <td>NaN</td>\n",
       "      <td>NaN</td>\n",
       "      <td>NaN</td>\n",
       "      <td>NaN</td>\n",
       "      <td>NaN</td>\n",
       "      <td>NaN</td>\n",
       "      <td>NaN</td>\n",
       "      <td>NaN</td>\n",
       "      <td>NaN</td>\n",
       "      <td>NaN</td>\n",
       "      <td>NaN</td>\n",
       "      <td>NaN</td>\n",
       "      <td>NaN</td>\n",
       "      <td>NaN</td>\n",
       "      <td>NaN</td>\n",
       "      <td>NaN</td>\n",
       "      <td>NaN</td>\n",
       "      <td>NaN</td>\n",
       "      <td>NaN</td>\n",
       "      <td>NaN</td>\n",
       "      <td>NaN</td>\n",
       "      <td>-23.035314</td>\n",
       "      <td>-52.836266</td>\n",
       "      <td>NaN</td>\n",
       "    </tr>\n",
       "    <tr>\n",
       "      <th>25%</th>\n",
       "      <td>1.000274e+19</td>\n",
       "      <td>NaN</td>\n",
       "      <td>NaN</td>\n",
       "      <td>NaN</td>\n",
       "      <td>NaN</td>\n",
       "      <td>NaN</td>\n",
       "      <td>NaN</td>\n",
       "      <td>NaN</td>\n",
       "      <td>NaN</td>\n",
       "      <td>NaN</td>\n",
       "      <td>NaN</td>\n",
       "      <td>NaN</td>\n",
       "      <td>NaN</td>\n",
       "      <td>NaN</td>\n",
       "      <td>NaN</td>\n",
       "      <td>NaN</td>\n",
       "      <td>NaN</td>\n",
       "      <td>NaN</td>\n",
       "      <td>NaN</td>\n",
       "      <td>NaN</td>\n",
       "      <td>NaN</td>\n",
       "      <td>NaN</td>\n",
       "      <td>NaN</td>\n",
       "      <td>NaN</td>\n",
       "      <td>NaN</td>\n",
       "      <td>-22.565849</td>\n",
       "      <td>-49.423959</td>\n",
       "      <td>NaN</td>\n",
       "    </tr>\n",
       "    <tr>\n",
       "      <th>50%</th>\n",
       "      <td>1.001359e+19</td>\n",
       "      <td>NaN</td>\n",
       "      <td>NaN</td>\n",
       "      <td>NaN</td>\n",
       "      <td>NaN</td>\n",
       "      <td>NaN</td>\n",
       "      <td>NaN</td>\n",
       "      <td>NaN</td>\n",
       "      <td>NaN</td>\n",
       "      <td>NaN</td>\n",
       "      <td>NaN</td>\n",
       "      <td>NaN</td>\n",
       "      <td>NaN</td>\n",
       "      <td>NaN</td>\n",
       "      <td>NaN</td>\n",
       "      <td>NaN</td>\n",
       "      <td>NaN</td>\n",
       "      <td>NaN</td>\n",
       "      <td>NaN</td>\n",
       "      <td>NaN</td>\n",
       "      <td>NaN</td>\n",
       "      <td>NaN</td>\n",
       "      <td>NaN</td>\n",
       "      <td>NaN</td>\n",
       "      <td>NaN</td>\n",
       "      <td>-21.855157</td>\n",
       "      <td>-48.537399</td>\n",
       "      <td>NaN</td>\n",
       "    </tr>\n",
       "    <tr>\n",
       "      <th>75%</th>\n",
       "      <td>1.001963e+19</td>\n",
       "      <td>NaN</td>\n",
       "      <td>NaN</td>\n",
       "      <td>NaN</td>\n",
       "      <td>NaN</td>\n",
       "      <td>NaN</td>\n",
       "      <td>NaN</td>\n",
       "      <td>NaN</td>\n",
       "      <td>NaN</td>\n",
       "      <td>NaN</td>\n",
       "      <td>NaN</td>\n",
       "      <td>NaN</td>\n",
       "      <td>NaN</td>\n",
       "      <td>NaN</td>\n",
       "      <td>NaN</td>\n",
       "      <td>NaN</td>\n",
       "      <td>NaN</td>\n",
       "      <td>NaN</td>\n",
       "      <td>NaN</td>\n",
       "      <td>NaN</td>\n",
       "      <td>NaN</td>\n",
       "      <td>NaN</td>\n",
       "      <td>NaN</td>\n",
       "      <td>NaN</td>\n",
       "      <td>NaN</td>\n",
       "      <td>-21.707247</td>\n",
       "      <td>-47.678201</td>\n",
       "      <td>NaN</td>\n",
       "    </tr>\n",
       "    <tr>\n",
       "      <th>max</th>\n",
       "      <td>1.007129e+19</td>\n",
       "      <td>NaN</td>\n",
       "      <td>NaN</td>\n",
       "      <td>NaN</td>\n",
       "      <td>NaN</td>\n",
       "      <td>NaN</td>\n",
       "      <td>NaN</td>\n",
       "      <td>NaN</td>\n",
       "      <td>NaN</td>\n",
       "      <td>NaN</td>\n",
       "      <td>NaN</td>\n",
       "      <td>NaN</td>\n",
       "      <td>NaN</td>\n",
       "      <td>NaN</td>\n",
       "      <td>NaN</td>\n",
       "      <td>NaN</td>\n",
       "      <td>NaN</td>\n",
       "      <td>NaN</td>\n",
       "      <td>NaN</td>\n",
       "      <td>NaN</td>\n",
       "      <td>NaN</td>\n",
       "      <td>NaN</td>\n",
       "      <td>NaN</td>\n",
       "      <td>NaN</td>\n",
       "      <td>NaN</td>\n",
       "      <td>-21.275526</td>\n",
       "      <td>-47.131588</td>\n",
       "      <td>NaN</td>\n",
       "    </tr>\n",
       "  </tbody>\n",
       "</table>\n",
       "</div>"
      ],
      "text/plain": [
       "            processo       Classe 1ª Instância    Assunto 1ª Instância  \\\n",
       "count   1.100000e+01                        11                      11   \n",
       "unique           NaN                         5                       7   \n",
       "top              NaN  Procedimento Comum Cível  PROFISSIONAIS DE APOIO   \n",
       "freq             NaN                         6                       2   \n",
       "mean    8.200390e+18                       NaN                     NaN   \n",
       "std     4.053214e+18                       NaN                     NaN   \n",
       "min     1.442920e+15                       NaN                     NaN   \n",
       "25%     1.000274e+19                       NaN                     NaN   \n",
       "50%     1.001359e+19                       NaN                     NaN   \n",
       "75%     1.001963e+19                       NaN                     NaN   \n",
       "max     1.007129e+19                       NaN                     NaN   \n",
       "\n",
       "       Comarca 1ª Instância                  foro  \\\n",
       "count                    11                    11   \n",
       "unique                   11                    11   \n",
       "top            Taquaritinga  Foro de Taquaritinga   \n",
       "freq                      1                     1   \n",
       "mean                    NaN                   NaN   \n",
       "std                     NaN                   NaN   \n",
       "min                     NaN                   NaN   \n",
       "25%                     NaN                   NaN   \n",
       "50%                     NaN                   NaN   \n",
       "75%                     NaN                   NaN   \n",
       "max                     NaN                   NaN   \n",
       "\n",
       "                                     vara  \\\n",
       "count                                  11   \n",
       "unique                                  7   \n",
       "top     Juizado Especial Cível e Criminal   \n",
       "freq                                    3   \n",
       "mean                                  NaN   \n",
       "std                                   NaN   \n",
       "min                                   NaN   \n",
       "25%                                   NaN   \n",
       "50%                                   NaN   \n",
       "75%                                   NaN   \n",
       "max                                   NaN   \n",
       "\n",
       "                                                                                                                                                                                                        julgado  \\\n",
       "count                                                                                                                                                                                                        11   \n",
       "unique                                                                                                                                                                                                       11   \n",
       "top     TRIBUNAL DE JUSTIÇA DO ESTADO DE SÃO PAULO COMARCA de Taquaritinga Foro de Taquaritinga Juizado Especial Cível e Criminal Rua Visconde do Rio Branco, 71, Taquaritinga-SP - cep 15900-000 Horário de...   \n",
       "freq                                                                                                                                                                                                          1   \n",
       "mean                                                                                                                                                                                                        NaN   \n",
       "std                                                                                                                                                                                                         NaN   \n",
       "min                                                                                                                                                                                                         NaN   \n",
       "25%                                                                                                                                                                                                         NaN   \n",
       "50%                                                                                                                                                                                                         NaN   \n",
       "75%                                                                                                                                                                                                         NaN   \n",
       "max                                                                                                                                                                                                         NaN   \n",
       "\n",
       "                                   cod_doc     Instância    sentença  \\\n",
       "count                                   11            11          11   \n",
       "unique                                  11             1           3   \n",
       "top     H70005JZY0000-619-PG5ARQA-45511889  1º Instância  procedente   \n",
       "freq                                     1            11           7   \n",
       "mean                                   NaN           NaN         NaN   \n",
       "std                                    NaN           NaN         NaN   \n",
       "min                                    NaN           NaN         NaN   \n",
       "25%                                    NaN           NaN         NaN   \n",
       "50%                                    NaN           NaN         NaN   \n",
       "75%                                    NaN           NaN         NaN   \n",
       "max                                    NaN           NaN         NaN   \n",
       "\n",
       "             Comarca     Requerinte     Réu  Assunto 2ª Instância  \\\n",
       "count             11             11      11                   0.0   \n",
       "unique            11              1       3                   NaN   \n",
       "top     taquaritinga  Pessoa Física  Estado                   NaN   \n",
       "freq               1             11       7                   NaN   \n",
       "mean             NaN            NaN     NaN                   NaN   \n",
       "std              NaN            NaN     NaN                   NaN   \n",
       "min              NaN            NaN     NaN                   NaN   \n",
       "25%              NaN            NaN     NaN                   NaN   \n",
       "50%              NaN            NaN     NaN                   NaN   \n",
       "75%              NaN            NaN     NaN                   NaN   \n",
       "max              NaN            NaN     NaN                   NaN   \n",
       "\n",
       "        Classe 2ª Instância  cd_processo  data  dispositivo  cdacordao  \\\n",
       "count                   0.0          0.0   0.0          0.0        0.0   \n",
       "unique                  NaN          NaN   NaN          NaN        NaN   \n",
       "top                     NaN          NaN   NaN          NaN        NaN   \n",
       "freq                    NaN          NaN   NaN          NaN        NaN   \n",
       "mean                    NaN          NaN   NaN          NaN        NaN   \n",
       "std                     NaN          NaN   NaN          NaN        NaN   \n",
       "min                     NaN          NaN   NaN          NaN        NaN   \n",
       "25%                     NaN          NaN   NaN          NaN        NaN   \n",
       "50%                     NaN          NaN   NaN          NaN        NaN   \n",
       "75%                     NaN          NaN   NaN          NaN        NaN   \n",
       "max                     NaN          NaN   NaN          NaN        NaN   \n",
       "\n",
       "        Comarca 2ª Instância  orgao_julgador  ementa  Recurso 2º Grau  cd_doc  \\\n",
       "count                    0.0             0.0     0.0              0.0     0.0   \n",
       "unique                   NaN             NaN     NaN              NaN     NaN   \n",
       "top                      NaN             NaN     NaN              NaN     NaN   \n",
       "freq                     NaN             NaN     NaN              NaN     NaN   \n",
       "mean                     NaN             NaN     NaN              NaN     NaN   \n",
       "std                      NaN             NaN     NaN              NaN     NaN   \n",
       "min                      NaN             NaN     NaN              NaN     NaN   \n",
       "25%                      NaN             NaN     NaN              NaN     NaN   \n",
       "50%                      NaN             NaN     NaN              NaN     NaN   \n",
       "75%                      NaN             NaN     NaN              NaN     NaN   \n",
       "max                      NaN             NaN     NaN              NaN     NaN   \n",
       "\n",
       "        Assunto 2º Instância   latitude  longitude  \\\n",
       "count                    0.0  11.000000  11.000000   \n",
       "unique                   NaN        NaN        NaN   \n",
       "top                      NaN        NaN        NaN   \n",
       "freq                     NaN        NaN        NaN   \n",
       "mean                     NaN -22.125617 -49.032649   \n",
       "std                      NaN   0.616990   1.899863   \n",
       "min                      NaN -23.035314 -52.836266   \n",
       "25%                      NaN -22.565849 -49.423959   \n",
       "50%                      NaN -21.855157 -48.537399   \n",
       "75%                      NaN -21.707247 -47.678201   \n",
       "max                      NaN -21.275526 -47.131588   \n",
       "\n",
       "                                                                                                                                                                                                 processed_text  \n",
       "count                                                                                                                                                                                                        11  \n",
       "unique                                                                                                                                                                                                       11  \n",
       "top     [Paulo, taquaritinga, taquaritinga, cível, criminal, rua, visconder, Rio, branco, taquaritinga, sp, cep, horário, atendimento, Min, Min, laudar, digital, classe, assunto, cumprimento, fazendo, púb...  \n",
       "freq                                                                                                                                                                                                          1  \n",
       "mean                                                                                                                                                                                                        NaN  \n",
       "std                                                                                                                                                                                                         NaN  \n",
       "min                                                                                                                                                                                                         NaN  \n",
       "25%                                                                                                                                                                                                         NaN  \n",
       "50%                                                                                                                                                                                                         NaN  \n",
       "75%                                                                                                                                                                                                         NaN  \n",
       "max                                                                                                                                                                                                         NaN  "
      ]
     },
     "execution_count": 6,
     "metadata": {},
     "output_type": "execute_result"
    }
   ],
   "source": [
    "pd.set_option('display.max_columns', None)\n",
    "df.describe(include='all')"
   ]
  },
  {
   "cell_type": "markdown",
   "metadata": {},
   "source": [
    "### 3. **EDA**"
   ]
  },
  {
   "cell_type": "code",
   "execution_count": 7,
   "metadata": {},
   "outputs": [
    {
     "name": "stdout",
     "output_type": "stream",
     "text": [
      "\n",
      "Total Documents:\n",
      "11\n",
      "\n",
      "Average Words per Document:\n",
      "623.0\n",
      "\n",
      "Unique Words:\n",
      "2025\n",
      "\n",
      "Most Common Words:\n",
      "[('fls', 94), ('escolar', 72), ('profissional', 65), ('apoio', 58), ('educação', 58), ('atendimento', 53), ('especializar', 53), ('deficiênciar', 51), ('ensino', 49), ('necessidade', 49)]\n",
      "\n",
      "Missing Values:\n",
      "processo                 0\n",
      "Classe 1ª Instância      0\n",
      "Assunto 1ª Instância     0\n",
      "Comarca 1ª Instância     0\n",
      "foro                     0\n",
      "vara                     0\n",
      "julgado                  0\n",
      "cod_doc                  0\n",
      "Instância                0\n",
      "sentença                 0\n",
      "Comarca                  0\n",
      "Requerinte               0\n",
      "Réu                      0\n",
      "Assunto 2ª Instância    11\n",
      "Classe 2ª Instância     11\n",
      "cd_processo             11\n",
      "data                    11\n",
      "dispositivo             11\n",
      "cdacordao               11\n",
      "Comarca 2ª Instância    11\n",
      "orgao_julgador          11\n",
      "ementa                  11\n",
      "Recurso 2º Grau         11\n",
      "cd_doc                  11\n",
      "Assunto 2º Instância    11\n",
      "latitude                 0\n",
      "longitude                0\n",
      "processed_text           0\n",
      "dtype: int64\n"
     ]
    }
   ],
   "source": [
    "def calculate_basic_stats(df):\n",
    "    \"\"\"Calculate and display basic statistics about the dataset.\"\"\"\n",
    "    stats = {\n",
    "        'Total Documents': len(df),\n",
    "        'Average Words per Document': df['processed_text'].apply(len).mean(),\n",
    "        'Unique Words': len(set([word for doc in df['processed_text'] for word in doc])),\n",
    "        'Most Common Words': Counter([word for doc in df['processed_text'] for word in doc]).most_common(10),\n",
    "        'Missing Values': df.isnull().sum()\n",
    "    }\n",
    "    return stats\n",
    "\n",
    "# Display basic statistics\n",
    "stats = calculate_basic_stats(df)\n",
    "for key, value in stats.items():\n",
    "    print(f\"\\n{key}:\")\n",
    "    print(value)"
   ]
  },
  {
   "cell_type": "code",
   "execution_count": 9,
   "metadata": {},
   "outputs": [],
   "source": [
    "# Function to calculate descriptive statistics\n",
    "def calculate_frequencies(df, column):\n",
    "    \"\"\"Calculates the absolute and relative frequency of a column\"\"\"\n",
    "    abs_freq = df[column].value_counts()\n",
    "    rel_freq = df[column].value_counts(normalize=True) * 100  # Converting to percentage\n",
    "    freq_table = pd.DataFrame({'Absolute Frequency': abs_freq, 'Relative Frequency (%)': rel_freq})\n",
    "    return freq_table\n",
    "\n",
    "# Example for the \"sentence\" column\n",
    "sentence_freq_table = calculate_frequencies(df, \"sentença\")\n",
    "\n",
    "# Example for \"Class 1st Instance\"\n",
    "class_freq_table = calculate_frequencies(df, \"Classe 1ª Instância\")"
   ]
  },
  {
   "cell_type": "markdown",
   "metadata": {},
   "source": [
    "This section presents the **Exploratory Data Analysis (EDA)** carried out on the set of judicial processes, aiming to understand its structure, identify patterns and verify statistical distributions. The analysis included descriptive statistics, visualizations and inspection of missing values.\n",
    "\n",
    "#### **3.1. Database Structure**\n",
    "\n",
    "The analyzed dataset contains **4,259 records** and **27 variables**, covering procedural information such as **class, subject, court, forum, court, decision, instance, plaintiff, and defendant**.  \n",
    "\n",
    "The initial inspection revealed **missing values**, mainly in variables associated with the **2nd instance**. This indicates that most of the analyzed processes belong to the **1st instance**. The variables with the highest completion rate include `processo` (100%), `Instância` (100%), `sentença` (86.2%) and `Requerente` (89.4%). In contrast, the variables `Assunto 2ª Instância`, `Classe 2ª Instância`, and `Recurso 2º Grau` show reduced completion rates, indicating that few processes reach the appeal phase.\n"
   ]
  },
  {
   "cell_type": "markdown",
   "metadata": {},
   "source": [
    "#### **3.2. Distribution of Procedural Classes in the 1st Instance**\n",
    "\n",
    "The analysis of the distribution of procedural classes reveals that some categories have a significantly higher frequency (Figure 1). The predominant classes are:\n",
    "- **Civil Security Mandate** (44.0%) and **Civil Common Procedure** (35.1%), concentrating most cases."
   ]
  },
  {
   "cell_type": "code",
   "execution_count": 10,
   "metadata": {},
   "outputs": [
    {
     "data": {
      "text/html": [
       "<div>\n",
       "<style scoped>\n",
       "    .dataframe tbody tr th:only-of-type {\n",
       "        vertical-align: middle;\n",
       "    }\n",
       "\n",
       "    .dataframe tbody tr th {\n",
       "        vertical-align: top;\n",
       "    }\n",
       "\n",
       "    .dataframe thead th {\n",
       "        text-align: right;\n",
       "    }\n",
       "</style>\n",
       "<table border=\"1\" class=\"dataframe\">\n",
       "  <thead>\n",
       "    <tr style=\"text-align: right;\">\n",
       "      <th></th>\n",
       "      <th>Absolute Frequency</th>\n",
       "      <th>Relative Frequency (%)</th>\n",
       "    </tr>\n",
       "    <tr>\n",
       "      <th>Classe 1ª Instância</th>\n",
       "      <th></th>\n",
       "      <th></th>\n",
       "    </tr>\n",
       "  </thead>\n",
       "  <tbody>\n",
       "    <tr>\n",
       "      <th>Procedimento Comum Cível</th>\n",
       "      <td>6</td>\n",
       "      <td>54.545455</td>\n",
       "    </tr>\n",
       "    <tr>\n",
       "      <th>Mandado de Segurança Cível</th>\n",
       "      <td>2</td>\n",
       "      <td>18.181818</td>\n",
       "    </tr>\n",
       "    <tr>\n",
       "      <th>Cumprimento de Sentença contra a Fazenda Pública</th>\n",
       "      <td>1</td>\n",
       "      <td>9.090909</td>\n",
       "    </tr>\n",
       "    <tr>\n",
       "      <th>Procedimento do Juizado Especial Cível</th>\n",
       "      <td>1</td>\n",
       "      <td>9.090909</td>\n",
       "    </tr>\n",
       "    <tr>\n",
       "      <th>Procedimento do Juizado Especial da Fazenda Pública</th>\n",
       "      <td>1</td>\n",
       "      <td>9.090909</td>\n",
       "    </tr>\n",
       "  </tbody>\n",
       "</table>\n",
       "</div>"
      ],
      "text/plain": [
       "                                                     Absolute Frequency  \\\n",
       "Classe 1ª Instância                                                       \n",
       "Procedimento Comum Cível                                              6   \n",
       "Mandado de Segurança Cível                                            2   \n",
       "Cumprimento de Sentença contra a Fazenda Pública                      1   \n",
       "Procedimento do Juizado Especial Cível                                1   \n",
       "Procedimento do Juizado Especial da Fazenda Pública                   1   \n",
       "\n",
       "                                                     Relative Frequency (%)  \n",
       "Classe 1ª Instância                                                          \n",
       "Procedimento Comum Cível                                          54.545455  \n",
       "Mandado de Segurança Cível                                        18.181818  \n",
       "Cumprimento de Sentença contra a Fazenda Pública                   9.090909  \n",
       "Procedimento do Juizado Especial Cível                             9.090909  \n",
       "Procedimento do Juizado Especial da Fazenda Pública                9.090909  "
      ]
     },
     "execution_count": 10,
     "metadata": {},
     "output_type": "execute_result"
    }
   ],
   "source": [
    "class_freq_table"
   ]
  },
  {
   "cell_type": "code",
   "execution_count": 11,
   "metadata": {},
   "outputs": [
    {
     "data": {
      "application/vnd.plotly.v1+json": {
       "config": {
        "plotlyServerURL": "https://plot.ly"
       },
       "data": [
        {
         "alignmentgroup": "True",
         "bingroup": "x",
         "hovertemplate": "Process Class=%{x}<br>count=%{y}<extra></extra>",
         "legendgroup": "",
         "marker": {
          "color": "#636efa",
          "pattern": {
           "shape": ""
          }
         },
         "name": "",
         "offsetgroup": "",
         "orientation": "v",
         "showlegend": false,
         "type": "histogram",
         "x": [
          "Cumprimento de Sentença contra a Fazenda Pública",
          "Mandado de Segurança Cível",
          "Procedimento do Juizado Especial Cível",
          "Mandado de Segurança Cível",
          "Procedimento Comum Cível",
          "Procedimento Comum Cível",
          "Procedimento do Juizado Especial da Fazenda Pública",
          "Procedimento Comum Cível",
          "Procedimento Comum Cível",
          "Procedimento Comum Cível",
          "Procedimento Comum Cível"
         ],
         "xaxis": "x",
         "yaxis": "y"
        }
       ],
       "layout": {
        "barmode": "relative",
        "legend": {
         "tracegroupgap": 0
        },
        "template": {
         "data": {
          "bar": [
           {
            "error_x": {
             "color": "#2a3f5f"
            },
            "error_y": {
             "color": "#2a3f5f"
            },
            "marker": {
             "line": {
              "color": "#E5ECF6",
              "width": 0.5
             },
             "pattern": {
              "fillmode": "overlay",
              "size": 10,
              "solidity": 0.2
             }
            },
            "type": "bar"
           }
          ],
          "barpolar": [
           {
            "marker": {
             "line": {
              "color": "#E5ECF6",
              "width": 0.5
             },
             "pattern": {
              "fillmode": "overlay",
              "size": 10,
              "solidity": 0.2
             }
            },
            "type": "barpolar"
           }
          ],
          "carpet": [
           {
            "aaxis": {
             "endlinecolor": "#2a3f5f",
             "gridcolor": "white",
             "linecolor": "white",
             "minorgridcolor": "white",
             "startlinecolor": "#2a3f5f"
            },
            "baxis": {
             "endlinecolor": "#2a3f5f",
             "gridcolor": "white",
             "linecolor": "white",
             "minorgridcolor": "white",
             "startlinecolor": "#2a3f5f"
            },
            "type": "carpet"
           }
          ],
          "choropleth": [
           {
            "colorbar": {
             "outlinewidth": 0,
             "ticks": ""
            },
            "type": "choropleth"
           }
          ],
          "contour": [
           {
            "colorbar": {
             "outlinewidth": 0,
             "ticks": ""
            },
            "colorscale": [
             [
              0,
              "#0d0887"
             ],
             [
              0.1111111111111111,
              "#46039f"
             ],
             [
              0.2222222222222222,
              "#7201a8"
             ],
             [
              0.3333333333333333,
              "#9c179e"
             ],
             [
              0.4444444444444444,
              "#bd3786"
             ],
             [
              0.5555555555555556,
              "#d8576b"
             ],
             [
              0.6666666666666666,
              "#ed7953"
             ],
             [
              0.7777777777777778,
              "#fb9f3a"
             ],
             [
              0.8888888888888888,
              "#fdca26"
             ],
             [
              1,
              "#f0f921"
             ]
            ],
            "type": "contour"
           }
          ],
          "contourcarpet": [
           {
            "colorbar": {
             "outlinewidth": 0,
             "ticks": ""
            },
            "type": "contourcarpet"
           }
          ],
          "heatmap": [
           {
            "colorbar": {
             "outlinewidth": 0,
             "ticks": ""
            },
            "colorscale": [
             [
              0,
              "#0d0887"
             ],
             [
              0.1111111111111111,
              "#46039f"
             ],
             [
              0.2222222222222222,
              "#7201a8"
             ],
             [
              0.3333333333333333,
              "#9c179e"
             ],
             [
              0.4444444444444444,
              "#bd3786"
             ],
             [
              0.5555555555555556,
              "#d8576b"
             ],
             [
              0.6666666666666666,
              "#ed7953"
             ],
             [
              0.7777777777777778,
              "#fb9f3a"
             ],
             [
              0.8888888888888888,
              "#fdca26"
             ],
             [
              1,
              "#f0f921"
             ]
            ],
            "type": "heatmap"
           }
          ],
          "heatmapgl": [
           {
            "colorbar": {
             "outlinewidth": 0,
             "ticks": ""
            },
            "colorscale": [
             [
              0,
              "#0d0887"
             ],
             [
              0.1111111111111111,
              "#46039f"
             ],
             [
              0.2222222222222222,
              "#7201a8"
             ],
             [
              0.3333333333333333,
              "#9c179e"
             ],
             [
              0.4444444444444444,
              "#bd3786"
             ],
             [
              0.5555555555555556,
              "#d8576b"
             ],
             [
              0.6666666666666666,
              "#ed7953"
             ],
             [
              0.7777777777777778,
              "#fb9f3a"
             ],
             [
              0.8888888888888888,
              "#fdca26"
             ],
             [
              1,
              "#f0f921"
             ]
            ],
            "type": "heatmapgl"
           }
          ],
          "histogram": [
           {
            "marker": {
             "pattern": {
              "fillmode": "overlay",
              "size": 10,
              "solidity": 0.2
             }
            },
            "type": "histogram"
           }
          ],
          "histogram2d": [
           {
            "colorbar": {
             "outlinewidth": 0,
             "ticks": ""
            },
            "colorscale": [
             [
              0,
              "#0d0887"
             ],
             [
              0.1111111111111111,
              "#46039f"
             ],
             [
              0.2222222222222222,
              "#7201a8"
             ],
             [
              0.3333333333333333,
              "#9c179e"
             ],
             [
              0.4444444444444444,
              "#bd3786"
             ],
             [
              0.5555555555555556,
              "#d8576b"
             ],
             [
              0.6666666666666666,
              "#ed7953"
             ],
             [
              0.7777777777777778,
              "#fb9f3a"
             ],
             [
              0.8888888888888888,
              "#fdca26"
             ],
             [
              1,
              "#f0f921"
             ]
            ],
            "type": "histogram2d"
           }
          ],
          "histogram2dcontour": [
           {
            "colorbar": {
             "outlinewidth": 0,
             "ticks": ""
            },
            "colorscale": [
             [
              0,
              "#0d0887"
             ],
             [
              0.1111111111111111,
              "#46039f"
             ],
             [
              0.2222222222222222,
              "#7201a8"
             ],
             [
              0.3333333333333333,
              "#9c179e"
             ],
             [
              0.4444444444444444,
              "#bd3786"
             ],
             [
              0.5555555555555556,
              "#d8576b"
             ],
             [
              0.6666666666666666,
              "#ed7953"
             ],
             [
              0.7777777777777778,
              "#fb9f3a"
             ],
             [
              0.8888888888888888,
              "#fdca26"
             ],
             [
              1,
              "#f0f921"
             ]
            ],
            "type": "histogram2dcontour"
           }
          ],
          "mesh3d": [
           {
            "colorbar": {
             "outlinewidth": 0,
             "ticks": ""
            },
            "type": "mesh3d"
           }
          ],
          "parcoords": [
           {
            "line": {
             "colorbar": {
              "outlinewidth": 0,
              "ticks": ""
             }
            },
            "type": "parcoords"
           }
          ],
          "pie": [
           {
            "automargin": true,
            "type": "pie"
           }
          ],
          "scatter": [
           {
            "fillpattern": {
             "fillmode": "overlay",
             "size": 10,
             "solidity": 0.2
            },
            "type": "scatter"
           }
          ],
          "scatter3d": [
           {
            "line": {
             "colorbar": {
              "outlinewidth": 0,
              "ticks": ""
             }
            },
            "marker": {
             "colorbar": {
              "outlinewidth": 0,
              "ticks": ""
             }
            },
            "type": "scatter3d"
           }
          ],
          "scattercarpet": [
           {
            "marker": {
             "colorbar": {
              "outlinewidth": 0,
              "ticks": ""
             }
            },
            "type": "scattercarpet"
           }
          ],
          "scattergeo": [
           {
            "marker": {
             "colorbar": {
              "outlinewidth": 0,
              "ticks": ""
             }
            },
            "type": "scattergeo"
           }
          ],
          "scattergl": [
           {
            "marker": {
             "colorbar": {
              "outlinewidth": 0,
              "ticks": ""
             }
            },
            "type": "scattergl"
           }
          ],
          "scattermapbox": [
           {
            "marker": {
             "colorbar": {
              "outlinewidth": 0,
              "ticks": ""
             }
            },
            "type": "scattermapbox"
           }
          ],
          "scatterpolar": [
           {
            "marker": {
             "colorbar": {
              "outlinewidth": 0,
              "ticks": ""
             }
            },
            "type": "scatterpolar"
           }
          ],
          "scatterpolargl": [
           {
            "marker": {
             "colorbar": {
              "outlinewidth": 0,
              "ticks": ""
             }
            },
            "type": "scatterpolargl"
           }
          ],
          "scatterternary": [
           {
            "marker": {
             "colorbar": {
              "outlinewidth": 0,
              "ticks": ""
             }
            },
            "type": "scatterternary"
           }
          ],
          "surface": [
           {
            "colorbar": {
             "outlinewidth": 0,
             "ticks": ""
            },
            "colorscale": [
             [
              0,
              "#0d0887"
             ],
             [
              0.1111111111111111,
              "#46039f"
             ],
             [
              0.2222222222222222,
              "#7201a8"
             ],
             [
              0.3333333333333333,
              "#9c179e"
             ],
             [
              0.4444444444444444,
              "#bd3786"
             ],
             [
              0.5555555555555556,
              "#d8576b"
             ],
             [
              0.6666666666666666,
              "#ed7953"
             ],
             [
              0.7777777777777778,
              "#fb9f3a"
             ],
             [
              0.8888888888888888,
              "#fdca26"
             ],
             [
              1,
              "#f0f921"
             ]
            ],
            "type": "surface"
           }
          ],
          "table": [
           {
            "cells": {
             "fill": {
              "color": "#EBF0F8"
             },
             "line": {
              "color": "white"
             }
            },
            "header": {
             "fill": {
              "color": "#C8D4E3"
             },
             "line": {
              "color": "white"
             }
            },
            "type": "table"
           }
          ]
         },
         "layout": {
          "annotationdefaults": {
           "arrowcolor": "#2a3f5f",
           "arrowhead": 0,
           "arrowwidth": 1
          },
          "autotypenumbers": "strict",
          "coloraxis": {
           "colorbar": {
            "outlinewidth": 0,
            "ticks": ""
           }
          },
          "colorscale": {
           "diverging": [
            [
             0,
             "#8e0152"
            ],
            [
             0.1,
             "#c51b7d"
            ],
            [
             0.2,
             "#de77ae"
            ],
            [
             0.3,
             "#f1b6da"
            ],
            [
             0.4,
             "#fde0ef"
            ],
            [
             0.5,
             "#f7f7f7"
            ],
            [
             0.6,
             "#e6f5d0"
            ],
            [
             0.7,
             "#b8e186"
            ],
            [
             0.8,
             "#7fbc41"
            ],
            [
             0.9,
             "#4d9221"
            ],
            [
             1,
             "#276419"
            ]
           ],
           "sequential": [
            [
             0,
             "#0d0887"
            ],
            [
             0.1111111111111111,
             "#46039f"
            ],
            [
             0.2222222222222222,
             "#7201a8"
            ],
            [
             0.3333333333333333,
             "#9c179e"
            ],
            [
             0.4444444444444444,
             "#bd3786"
            ],
            [
             0.5555555555555556,
             "#d8576b"
            ],
            [
             0.6666666666666666,
             "#ed7953"
            ],
            [
             0.7777777777777778,
             "#fb9f3a"
            ],
            [
             0.8888888888888888,
             "#fdca26"
            ],
            [
             1,
             "#f0f921"
            ]
           ],
           "sequentialminus": [
            [
             0,
             "#0d0887"
            ],
            [
             0.1111111111111111,
             "#46039f"
            ],
            [
             0.2222222222222222,
             "#7201a8"
            ],
            [
             0.3333333333333333,
             "#9c179e"
            ],
            [
             0.4444444444444444,
             "#bd3786"
            ],
            [
             0.5555555555555556,
             "#d8576b"
            ],
            [
             0.6666666666666666,
             "#ed7953"
            ],
            [
             0.7777777777777778,
             "#fb9f3a"
            ],
            [
             0.8888888888888888,
             "#fdca26"
            ],
            [
             1,
             "#f0f921"
            ]
           ]
          },
          "colorway": [
           "#636efa",
           "#EF553B",
           "#00cc96",
           "#ab63fa",
           "#FFA15A",
           "#19d3f3",
           "#FF6692",
           "#B6E880",
           "#FF97FF",
           "#FECB52"
          ],
          "font": {
           "color": "#2a3f5f"
          },
          "geo": {
           "bgcolor": "white",
           "lakecolor": "white",
           "landcolor": "#E5ECF6",
           "showlakes": true,
           "showland": true,
           "subunitcolor": "white"
          },
          "hoverlabel": {
           "align": "left"
          },
          "hovermode": "closest",
          "mapbox": {
           "style": "light"
          },
          "paper_bgcolor": "white",
          "plot_bgcolor": "#E5ECF6",
          "polar": {
           "angularaxis": {
            "gridcolor": "white",
            "linecolor": "white",
            "ticks": ""
           },
           "bgcolor": "#E5ECF6",
           "radialaxis": {
            "gridcolor": "white",
            "linecolor": "white",
            "ticks": ""
           }
          },
          "scene": {
           "xaxis": {
            "backgroundcolor": "#E5ECF6",
            "gridcolor": "white",
            "gridwidth": 2,
            "linecolor": "white",
            "showbackground": true,
            "ticks": "",
            "zerolinecolor": "white"
           },
           "yaxis": {
            "backgroundcolor": "#E5ECF6",
            "gridcolor": "white",
            "gridwidth": 2,
            "linecolor": "white",
            "showbackground": true,
            "ticks": "",
            "zerolinecolor": "white"
           },
           "zaxis": {
            "backgroundcolor": "#E5ECF6",
            "gridcolor": "white",
            "gridwidth": 2,
            "linecolor": "white",
            "showbackground": true,
            "ticks": "",
            "zerolinecolor": "white"
           }
          },
          "shapedefaults": {
           "line": {
            "color": "#2a3f5f"
           }
          },
          "ternary": {
           "aaxis": {
            "gridcolor": "white",
            "linecolor": "white",
            "ticks": ""
           },
           "baxis": {
            "gridcolor": "white",
            "linecolor": "white",
            "ticks": ""
           },
           "bgcolor": "#E5ECF6",
           "caxis": {
            "gridcolor": "white",
            "linecolor": "white",
            "ticks": ""
           }
          },
          "title": {
           "x": 0.05
          },
          "xaxis": {
           "automargin": true,
           "gridcolor": "white",
           "linecolor": "white",
           "ticks": "",
           "title": {
            "standoff": 15
           },
           "zerolinecolor": "white",
           "zerolinewidth": 2
          },
          "yaxis": {
           "automargin": true,
           "gridcolor": "white",
           "linecolor": "white",
           "ticks": "",
           "title": {
            "standoff": 15
           },
           "zerolinecolor": "white",
           "zerolinewidth": 2
          }
         }
        },
        "title": {
         "text": "Distribution of Classes of Processes in the 1st Instance"
        },
        "xaxis": {
         "anchor": "y",
         "categoryorder": "total descending",
         "domain": [
          0,
          1
         ],
         "title": {
          "text": "Process Class"
         }
        },
        "yaxis": {
         "anchor": "x",
         "domain": [
          0,
          1
         ],
         "title": {
          "text": "count"
         }
        }
       }
      }
     },
     "metadata": {},
     "output_type": "display_data"
    }
   ],
   "source": [
    "# Visualization 1: Distribution of Classes of Processes in the 1st Instance\n",
    "fig1 = px.histogram(df,\n",
    "                    x=\"Classe 1ª Instância\",\n",
    "                    title=\"Distribution of Classes of Processes in the 1st Instance\",\n",
    "                    labels={\"Classe 1ª Instância\": \"Process Class\"}\n",
    "                    )\n",
    "fig1.update_xaxes(categoryorder='total descending')\n",
    "fig1.show()"
   ]
  },
  {
   "cell_type": "markdown",
   "metadata": {},
   "source": [
    "#### **3.3. Distribution of Legal Subjects in the 1st Instance**\n",
    "\n",
    "The distribution of legal subjects most frequently appears in Figure 2. The most recurring themes are:\n",
    "- **Education Establishments** (44.1%) and **Basic and Secondary Education** (35.1%) as the most recurring themes.\n",
    "- **Constitutional Guarantees** (12.9%), **People with Disabilities** (4.8%) and **Pre-school Care** (1.3%) also show representation.\n",
    "\n",
    "The high volume of actions related to education and social inclusion indicates that the judiciary plays a relevant role in guaranteeing fundamental rights.\n"
   ]
  },
  {
   "cell_type": "code",
   "execution_count": 12,
   "metadata": {},
   "outputs": [
    {
     "data": {
      "application/vnd.plotly.v1+json": {
       "config": {
        "plotlyServerURL": "https://plot.ly"
       },
       "data": [
        {
         "alignmentgroup": "True",
         "hovertemplate": "Classe Processual=%{x}<br>Frequência Absoluta=%{y}<br>text=%{text}<extra></extra>",
         "legendgroup": "",
         "marker": {
          "color": "#636efa",
          "pattern": {
           "shape": ""
          }
         },
         "name": "",
         "offsetgroup": "",
         "orientation": "v",
         "showlegend": false,
         "text": [
          "54.5%",
          "18.2%",
          "9.1%",
          "9.1%",
          "9.1%"
         ],
         "textposition": "outside",
         "type": "bar",
         "x": [
          "Procedimento Comum Cível",
          "Mandado de Segurança Cível",
          "Cumprimento de Sentença contra a Fazenda Pública",
          "Procedimento do Juizado Especial Cível",
          "Procedimento do Juizado Especial da Fazenda Pública"
         ],
         "xaxis": "x",
         "y": [
          6,
          2,
          1,
          1,
          1
         ],
         "yaxis": "y"
        }
       ],
       "layout": {
        "barmode": "relative",
        "legend": {
         "tracegroupgap": 0
        },
        "template": {
         "data": {
          "bar": [
           {
            "error_x": {
             "color": "#2a3f5f"
            },
            "error_y": {
             "color": "#2a3f5f"
            },
            "marker": {
             "line": {
              "color": "#E5ECF6",
              "width": 0.5
             },
             "pattern": {
              "fillmode": "overlay",
              "size": 10,
              "solidity": 0.2
             }
            },
            "type": "bar"
           }
          ],
          "barpolar": [
           {
            "marker": {
             "line": {
              "color": "#E5ECF6",
              "width": 0.5
             },
             "pattern": {
              "fillmode": "overlay",
              "size": 10,
              "solidity": 0.2
             }
            },
            "type": "barpolar"
           }
          ],
          "carpet": [
           {
            "aaxis": {
             "endlinecolor": "#2a3f5f",
             "gridcolor": "white",
             "linecolor": "white",
             "minorgridcolor": "white",
             "startlinecolor": "#2a3f5f"
            },
            "baxis": {
             "endlinecolor": "#2a3f5f",
             "gridcolor": "white",
             "linecolor": "white",
             "minorgridcolor": "white",
             "startlinecolor": "#2a3f5f"
            },
            "type": "carpet"
           }
          ],
          "choropleth": [
           {
            "colorbar": {
             "outlinewidth": 0,
             "ticks": ""
            },
            "type": "choropleth"
           }
          ],
          "contour": [
           {
            "colorbar": {
             "outlinewidth": 0,
             "ticks": ""
            },
            "colorscale": [
             [
              0,
              "#0d0887"
             ],
             [
              0.1111111111111111,
              "#46039f"
             ],
             [
              0.2222222222222222,
              "#7201a8"
             ],
             [
              0.3333333333333333,
              "#9c179e"
             ],
             [
              0.4444444444444444,
              "#bd3786"
             ],
             [
              0.5555555555555556,
              "#d8576b"
             ],
             [
              0.6666666666666666,
              "#ed7953"
             ],
             [
              0.7777777777777778,
              "#fb9f3a"
             ],
             [
              0.8888888888888888,
              "#fdca26"
             ],
             [
              1,
              "#f0f921"
             ]
            ],
            "type": "contour"
           }
          ],
          "contourcarpet": [
           {
            "colorbar": {
             "outlinewidth": 0,
             "ticks": ""
            },
            "type": "contourcarpet"
           }
          ],
          "heatmap": [
           {
            "colorbar": {
             "outlinewidth": 0,
             "ticks": ""
            },
            "colorscale": [
             [
              0,
              "#0d0887"
             ],
             [
              0.1111111111111111,
              "#46039f"
             ],
             [
              0.2222222222222222,
              "#7201a8"
             ],
             [
              0.3333333333333333,
              "#9c179e"
             ],
             [
              0.4444444444444444,
              "#bd3786"
             ],
             [
              0.5555555555555556,
              "#d8576b"
             ],
             [
              0.6666666666666666,
              "#ed7953"
             ],
             [
              0.7777777777777778,
              "#fb9f3a"
             ],
             [
              0.8888888888888888,
              "#fdca26"
             ],
             [
              1,
              "#f0f921"
             ]
            ],
            "type": "heatmap"
           }
          ],
          "heatmapgl": [
           {
            "colorbar": {
             "outlinewidth": 0,
             "ticks": ""
            },
            "colorscale": [
             [
              0,
              "#0d0887"
             ],
             [
              0.1111111111111111,
              "#46039f"
             ],
             [
              0.2222222222222222,
              "#7201a8"
             ],
             [
              0.3333333333333333,
              "#9c179e"
             ],
             [
              0.4444444444444444,
              "#bd3786"
             ],
             [
              0.5555555555555556,
              "#d8576b"
             ],
             [
              0.6666666666666666,
              "#ed7953"
             ],
             [
              0.7777777777777778,
              "#fb9f3a"
             ],
             [
              0.8888888888888888,
              "#fdca26"
             ],
             [
              1,
              "#f0f921"
             ]
            ],
            "type": "heatmapgl"
           }
          ],
          "histogram": [
           {
            "marker": {
             "pattern": {
              "fillmode": "overlay",
              "size": 10,
              "solidity": 0.2
             }
            },
            "type": "histogram"
           }
          ],
          "histogram2d": [
           {
            "colorbar": {
             "outlinewidth": 0,
             "ticks": ""
            },
            "colorscale": [
             [
              0,
              "#0d0887"
             ],
             [
              0.1111111111111111,
              "#46039f"
             ],
             [
              0.2222222222222222,
              "#7201a8"
             ],
             [
              0.3333333333333333,
              "#9c179e"
             ],
             [
              0.4444444444444444,
              "#bd3786"
             ],
             [
              0.5555555555555556,
              "#d8576b"
             ],
             [
              0.6666666666666666,
              "#ed7953"
             ],
             [
              0.7777777777777778,
              "#fb9f3a"
             ],
             [
              0.8888888888888888,
              "#fdca26"
             ],
             [
              1,
              "#f0f921"
             ]
            ],
            "type": "histogram2d"
           }
          ],
          "histogram2dcontour": [
           {
            "colorbar": {
             "outlinewidth": 0,
             "ticks": ""
            },
            "colorscale": [
             [
              0,
              "#0d0887"
             ],
             [
              0.1111111111111111,
              "#46039f"
             ],
             [
              0.2222222222222222,
              "#7201a8"
             ],
             [
              0.3333333333333333,
              "#9c179e"
             ],
             [
              0.4444444444444444,
              "#bd3786"
             ],
             [
              0.5555555555555556,
              "#d8576b"
             ],
             [
              0.6666666666666666,
              "#ed7953"
             ],
             [
              0.7777777777777778,
              "#fb9f3a"
             ],
             [
              0.8888888888888888,
              "#fdca26"
             ],
             [
              1,
              "#f0f921"
             ]
            ],
            "type": "histogram2dcontour"
           }
          ],
          "mesh3d": [
           {
            "colorbar": {
             "outlinewidth": 0,
             "ticks": ""
            },
            "type": "mesh3d"
           }
          ],
          "parcoords": [
           {
            "line": {
             "colorbar": {
              "outlinewidth": 0,
              "ticks": ""
             }
            },
            "type": "parcoords"
           }
          ],
          "pie": [
           {
            "automargin": true,
            "type": "pie"
           }
          ],
          "scatter": [
           {
            "fillpattern": {
             "fillmode": "overlay",
             "size": 10,
             "solidity": 0.2
            },
            "type": "scatter"
           }
          ],
          "scatter3d": [
           {
            "line": {
             "colorbar": {
              "outlinewidth": 0,
              "ticks": ""
             }
            },
            "marker": {
             "colorbar": {
              "outlinewidth": 0,
              "ticks": ""
             }
            },
            "type": "scatter3d"
           }
          ],
          "scattercarpet": [
           {
            "marker": {
             "colorbar": {
              "outlinewidth": 0,
              "ticks": ""
             }
            },
            "type": "scattercarpet"
           }
          ],
          "scattergeo": [
           {
            "marker": {
             "colorbar": {
              "outlinewidth": 0,
              "ticks": ""
             }
            },
            "type": "scattergeo"
           }
          ],
          "scattergl": [
           {
            "marker": {
             "colorbar": {
              "outlinewidth": 0,
              "ticks": ""
             }
            },
            "type": "scattergl"
           }
          ],
          "scattermapbox": [
           {
            "marker": {
             "colorbar": {
              "outlinewidth": 0,
              "ticks": ""
             }
            },
            "type": "scattermapbox"
           }
          ],
          "scatterpolar": [
           {
            "marker": {
             "colorbar": {
              "outlinewidth": 0,
              "ticks": ""
             }
            },
            "type": "scatterpolar"
           }
          ],
          "scatterpolargl": [
           {
            "marker": {
             "colorbar": {
              "outlinewidth": 0,
              "ticks": ""
             }
            },
            "type": "scatterpolargl"
           }
          ],
          "scatterternary": [
           {
            "marker": {
             "colorbar": {
              "outlinewidth": 0,
              "ticks": ""
             }
            },
            "type": "scatterternary"
           }
          ],
          "surface": [
           {
            "colorbar": {
             "outlinewidth": 0,
             "ticks": ""
            },
            "colorscale": [
             [
              0,
              "#0d0887"
             ],
             [
              0.1111111111111111,
              "#46039f"
             ],
             [
              0.2222222222222222,
              "#7201a8"
             ],
             [
              0.3333333333333333,
              "#9c179e"
             ],
             [
              0.4444444444444444,
              "#bd3786"
             ],
             [
              0.5555555555555556,
              "#d8576b"
             ],
             [
              0.6666666666666666,
              "#ed7953"
             ],
             [
              0.7777777777777778,
              "#fb9f3a"
             ],
             [
              0.8888888888888888,
              "#fdca26"
             ],
             [
              1,
              "#f0f921"
             ]
            ],
            "type": "surface"
           }
          ],
          "table": [
           {
            "cells": {
             "fill": {
              "color": "#EBF0F8"
             },
             "line": {
              "color": "white"
             }
            },
            "header": {
             "fill": {
              "color": "#C8D4E3"
             },
             "line": {
              "color": "white"
             }
            },
            "type": "table"
           }
          ]
         },
         "layout": {
          "annotationdefaults": {
           "arrowcolor": "#2a3f5f",
           "arrowhead": 0,
           "arrowwidth": 1
          },
          "autotypenumbers": "strict",
          "coloraxis": {
           "colorbar": {
            "outlinewidth": 0,
            "ticks": ""
           }
          },
          "colorscale": {
           "diverging": [
            [
             0,
             "#8e0152"
            ],
            [
             0.1,
             "#c51b7d"
            ],
            [
             0.2,
             "#de77ae"
            ],
            [
             0.3,
             "#f1b6da"
            ],
            [
             0.4,
             "#fde0ef"
            ],
            [
             0.5,
             "#f7f7f7"
            ],
            [
             0.6,
             "#e6f5d0"
            ],
            [
             0.7,
             "#b8e186"
            ],
            [
             0.8,
             "#7fbc41"
            ],
            [
             0.9,
             "#4d9221"
            ],
            [
             1,
             "#276419"
            ]
           ],
           "sequential": [
            [
             0,
             "#0d0887"
            ],
            [
             0.1111111111111111,
             "#46039f"
            ],
            [
             0.2222222222222222,
             "#7201a8"
            ],
            [
             0.3333333333333333,
             "#9c179e"
            ],
            [
             0.4444444444444444,
             "#bd3786"
            ],
            [
             0.5555555555555556,
             "#d8576b"
            ],
            [
             0.6666666666666666,
             "#ed7953"
            ],
            [
             0.7777777777777778,
             "#fb9f3a"
            ],
            [
             0.8888888888888888,
             "#fdca26"
            ],
            [
             1,
             "#f0f921"
            ]
           ],
           "sequentialminus": [
            [
             0,
             "#0d0887"
            ],
            [
             0.1111111111111111,
             "#46039f"
            ],
            [
             0.2222222222222222,
             "#7201a8"
            ],
            [
             0.3333333333333333,
             "#9c179e"
            ],
            [
             0.4444444444444444,
             "#bd3786"
            ],
            [
             0.5555555555555556,
             "#d8576b"
            ],
            [
             0.6666666666666666,
             "#ed7953"
            ],
            [
             0.7777777777777778,
             "#fb9f3a"
            ],
            [
             0.8888888888888888,
             "#fdca26"
            ],
            [
             1,
             "#f0f921"
            ]
           ]
          },
          "colorway": [
           "#636efa",
           "#EF553B",
           "#00cc96",
           "#ab63fa",
           "#FFA15A",
           "#19d3f3",
           "#FF6692",
           "#B6E880",
           "#FF97FF",
           "#FECB52"
          ],
          "font": {
           "color": "#2a3f5f"
          },
          "geo": {
           "bgcolor": "white",
           "lakecolor": "white",
           "landcolor": "#E5ECF6",
           "showlakes": true,
           "showland": true,
           "subunitcolor": "white"
          },
          "hoverlabel": {
           "align": "left"
          },
          "hovermode": "closest",
          "mapbox": {
           "style": "light"
          },
          "paper_bgcolor": "white",
          "plot_bgcolor": "#E5ECF6",
          "polar": {
           "angularaxis": {
            "gridcolor": "white",
            "linecolor": "white",
            "ticks": ""
           },
           "bgcolor": "#E5ECF6",
           "radialaxis": {
            "gridcolor": "white",
            "linecolor": "white",
            "ticks": ""
           }
          },
          "scene": {
           "xaxis": {
            "backgroundcolor": "#E5ECF6",
            "gridcolor": "white",
            "gridwidth": 2,
            "linecolor": "white",
            "showbackground": true,
            "ticks": "",
            "zerolinecolor": "white"
           },
           "yaxis": {
            "backgroundcolor": "#E5ECF6",
            "gridcolor": "white",
            "gridwidth": 2,
            "linecolor": "white",
            "showbackground": true,
            "ticks": "",
            "zerolinecolor": "white"
           },
           "zaxis": {
            "backgroundcolor": "#E5ECF6",
            "gridcolor": "white",
            "gridwidth": 2,
            "linecolor": "white",
            "showbackground": true,
            "ticks": "",
            "zerolinecolor": "white"
           }
          },
          "shapedefaults": {
           "line": {
            "color": "#2a3f5f"
           }
          },
          "ternary": {
           "aaxis": {
            "gridcolor": "white",
            "linecolor": "white",
            "ticks": ""
           },
           "baxis": {
            "gridcolor": "white",
            "linecolor": "white",
            "ticks": ""
           },
           "bgcolor": "#E5ECF6",
           "caxis": {
            "gridcolor": "white",
            "linecolor": "white",
            "ticks": ""
           }
          },
          "title": {
           "x": 0.05
          },
          "xaxis": {
           "automargin": true,
           "gridcolor": "white",
           "linecolor": "white",
           "ticks": "",
           "title": {
            "standoff": 15
           },
           "zerolinecolor": "white",
           "zerolinewidth": 2
          },
          "yaxis": {
           "automargin": true,
           "gridcolor": "white",
           "linecolor": "white",
           "ticks": "",
           "title": {
            "standoff": 15
           },
           "zerolinecolor": "white",
           "zerolinewidth": 2
          }
         }
        },
        "title": {
         "text": "Distribution of Classes of Processes in the 1st Instance"
        },
        "xaxis": {
         "anchor": "y",
         "categoryorder": "total descending",
         "domain": [
          0,
          1
         ],
         "title": {
          "text": "Classe Processual"
         }
        },
        "yaxis": {
         "anchor": "x",
         "domain": [
          0,
          1
         ],
         "title": {
          "text": "Frequência Absoluta"
         }
        }
       }
      }
     },
     "metadata": {},
     "output_type": "display_data"
    }
   ],
   "source": [
    "df_classes = df[\"Classe 1ª Instância\"].value_counts().reset_index()\n",
    "df_classes.columns = [\"Classe Processual\", \"Frequência Absoluta\"]\n",
    "df_classes[\"Frequência Relativa (%)\"] = (df_classes[\"Frequência Absoluta\"] / df_classes[\"Frequência Absoluta\"].sum()) * 100\n",
    "\n",
    "fig = px.bar(df_classes, x=\"Classe Processual\", y=\"Frequência Absoluta\",\n",
    "             text=df_classes[\"Frequência Relativa (%)\"].apply(lambda x: f\"{x:.1f}%\"),\n",
    "             title=\"Distribution of Classes of Processes in the 1st Instance\")\n",
    "\n",
    "fig.update_xaxes(categoryorder='total descending')\n",
    "fig.update_traces(textposition='outside')\n",
    "fig.show()\n"
   ]
  },
  {
   "cell_type": "markdown",
   "metadata": {},
   "source": [
    "### **3.4. Distribution of Sentences**\n",
    "\n",
    "The analysis of the sentences issued indicates that the majority of cases result in a **procedente** decision (Figure 3), suggesting that a large part of the actions have a solid legal basis.\n",
    "\n",
    "Distribution of decisions:\n",
    "- **Procedente:** Predominant sentence (50.7%).\n",
    "- **Parcialmente procedente:** Represents a significant portion of cases (28.0%).\n",
    "- **Improcedente:** Less common, but present (18.5%).\n",
    "- **Homologação:** Minority of cases (2.8%).\n",
    "\n",
    "The high rate of procedência may indicate that the petitions presented have a solid legal basis.\n"
   ]
  },
  {
   "cell_type": "code",
   "execution_count": 13,
   "metadata": {},
   "outputs": [
    {
     "data": {
      "application/vnd.plotly.v1+json": {
       "config": {
        "plotlyServerURL": "https://plot.ly"
       },
       "data": [
        {
         "alignmentgroup": "True",
         "hovertemplate": "Sentence Type=%{x}<br>Absolute Frequency=%{y}<br>text=%{text}<extra></extra>",
         "legendgroup": "",
         "marker": {
          "color": "#636efa",
          "pattern": {
           "shape": ""
          }
         },
         "name": "",
         "offsetgroup": "",
         "orientation": "v",
         "showlegend": false,
         "text": [
          "63.6%",
          "27.3%",
          "9.1%"
         ],
         "textposition": "outside",
         "type": "bar",
         "x": [
          "procedente",
          "parcial",
          "improcedente"
         ],
         "xaxis": "x",
         "y": [
          7,
          3,
          1
         ],
         "yaxis": "y"
        }
       ],
       "layout": {
        "barmode": "relative",
        "legend": {
         "tracegroupgap": 0
        },
        "template": {
         "data": {
          "bar": [
           {
            "error_x": {
             "color": "#2a3f5f"
            },
            "error_y": {
             "color": "#2a3f5f"
            },
            "marker": {
             "line": {
              "color": "#E5ECF6",
              "width": 0.5
             },
             "pattern": {
              "fillmode": "overlay",
              "size": 10,
              "solidity": 0.2
             }
            },
            "type": "bar"
           }
          ],
          "barpolar": [
           {
            "marker": {
             "line": {
              "color": "#E5ECF6",
              "width": 0.5
             },
             "pattern": {
              "fillmode": "overlay",
              "size": 10,
              "solidity": 0.2
             }
            },
            "type": "barpolar"
           }
          ],
          "carpet": [
           {
            "aaxis": {
             "endlinecolor": "#2a3f5f",
             "gridcolor": "white",
             "linecolor": "white",
             "minorgridcolor": "white",
             "startlinecolor": "#2a3f5f"
            },
            "baxis": {
             "endlinecolor": "#2a3f5f",
             "gridcolor": "white",
             "linecolor": "white",
             "minorgridcolor": "white",
             "startlinecolor": "#2a3f5f"
            },
            "type": "carpet"
           }
          ],
          "choropleth": [
           {
            "colorbar": {
             "outlinewidth": 0,
             "ticks": ""
            },
            "type": "choropleth"
           }
          ],
          "contour": [
           {
            "colorbar": {
             "outlinewidth": 0,
             "ticks": ""
            },
            "colorscale": [
             [
              0,
              "#0d0887"
             ],
             [
              0.1111111111111111,
              "#46039f"
             ],
             [
              0.2222222222222222,
              "#7201a8"
             ],
             [
              0.3333333333333333,
              "#9c179e"
             ],
             [
              0.4444444444444444,
              "#bd3786"
             ],
             [
              0.5555555555555556,
              "#d8576b"
             ],
             [
              0.6666666666666666,
              "#ed7953"
             ],
             [
              0.7777777777777778,
              "#fb9f3a"
             ],
             [
              0.8888888888888888,
              "#fdca26"
             ],
             [
              1,
              "#f0f921"
             ]
            ],
            "type": "contour"
           }
          ],
          "contourcarpet": [
           {
            "colorbar": {
             "outlinewidth": 0,
             "ticks": ""
            },
            "type": "contourcarpet"
           }
          ],
          "heatmap": [
           {
            "colorbar": {
             "outlinewidth": 0,
             "ticks": ""
            },
            "colorscale": [
             [
              0,
              "#0d0887"
             ],
             [
              0.1111111111111111,
              "#46039f"
             ],
             [
              0.2222222222222222,
              "#7201a8"
             ],
             [
              0.3333333333333333,
              "#9c179e"
             ],
             [
              0.4444444444444444,
              "#bd3786"
             ],
             [
              0.5555555555555556,
              "#d8576b"
             ],
             [
              0.6666666666666666,
              "#ed7953"
             ],
             [
              0.7777777777777778,
              "#fb9f3a"
             ],
             [
              0.8888888888888888,
              "#fdca26"
             ],
             [
              1,
              "#f0f921"
             ]
            ],
            "type": "heatmap"
           }
          ],
          "heatmapgl": [
           {
            "colorbar": {
             "outlinewidth": 0,
             "ticks": ""
            },
            "colorscale": [
             [
              0,
              "#0d0887"
             ],
             [
              0.1111111111111111,
              "#46039f"
             ],
             [
              0.2222222222222222,
              "#7201a8"
             ],
             [
              0.3333333333333333,
              "#9c179e"
             ],
             [
              0.4444444444444444,
              "#bd3786"
             ],
             [
              0.5555555555555556,
              "#d8576b"
             ],
             [
              0.6666666666666666,
              "#ed7953"
             ],
             [
              0.7777777777777778,
              "#fb9f3a"
             ],
             [
              0.8888888888888888,
              "#fdca26"
             ],
             [
              1,
              "#f0f921"
             ]
            ],
            "type": "heatmapgl"
           }
          ],
          "histogram": [
           {
            "marker": {
             "pattern": {
              "fillmode": "overlay",
              "size": 10,
              "solidity": 0.2
             }
            },
            "type": "histogram"
           }
          ],
          "histogram2d": [
           {
            "colorbar": {
             "outlinewidth": 0,
             "ticks": ""
            },
            "colorscale": [
             [
              0,
              "#0d0887"
             ],
             [
              0.1111111111111111,
              "#46039f"
             ],
             [
              0.2222222222222222,
              "#7201a8"
             ],
             [
              0.3333333333333333,
              "#9c179e"
             ],
             [
              0.4444444444444444,
              "#bd3786"
             ],
             [
              0.5555555555555556,
              "#d8576b"
             ],
             [
              0.6666666666666666,
              "#ed7953"
             ],
             [
              0.7777777777777778,
              "#fb9f3a"
             ],
             [
              0.8888888888888888,
              "#fdca26"
             ],
             [
              1,
              "#f0f921"
             ]
            ],
            "type": "histogram2d"
           }
          ],
          "histogram2dcontour": [
           {
            "colorbar": {
             "outlinewidth": 0,
             "ticks": ""
            },
            "colorscale": [
             [
              0,
              "#0d0887"
             ],
             [
              0.1111111111111111,
              "#46039f"
             ],
             [
              0.2222222222222222,
              "#7201a8"
             ],
             [
              0.3333333333333333,
              "#9c179e"
             ],
             [
              0.4444444444444444,
              "#bd3786"
             ],
             [
              0.5555555555555556,
              "#d8576b"
             ],
             [
              0.6666666666666666,
              "#ed7953"
             ],
             [
              0.7777777777777778,
              "#fb9f3a"
             ],
             [
              0.8888888888888888,
              "#fdca26"
             ],
             [
              1,
              "#f0f921"
             ]
            ],
            "type": "histogram2dcontour"
           }
          ],
          "mesh3d": [
           {
            "colorbar": {
             "outlinewidth": 0,
             "ticks": ""
            },
            "type": "mesh3d"
           }
          ],
          "parcoords": [
           {
            "line": {
             "colorbar": {
              "outlinewidth": 0,
              "ticks": ""
             }
            },
            "type": "parcoords"
           }
          ],
          "pie": [
           {
            "automargin": true,
            "type": "pie"
           }
          ],
          "scatter": [
           {
            "fillpattern": {
             "fillmode": "overlay",
             "size": 10,
             "solidity": 0.2
            },
            "type": "scatter"
           }
          ],
          "scatter3d": [
           {
            "line": {
             "colorbar": {
              "outlinewidth": 0,
              "ticks": ""
             }
            },
            "marker": {
             "colorbar": {
              "outlinewidth": 0,
              "ticks": ""
             }
            },
            "type": "scatter3d"
           }
          ],
          "scattercarpet": [
           {
            "marker": {
             "colorbar": {
              "outlinewidth": 0,
              "ticks": ""
             }
            },
            "type": "scattercarpet"
           }
          ],
          "scattergeo": [
           {
            "marker": {
             "colorbar": {
              "outlinewidth": 0,
              "ticks": ""
             }
            },
            "type": "scattergeo"
           }
          ],
          "scattergl": [
           {
            "marker": {
             "colorbar": {
              "outlinewidth": 0,
              "ticks": ""
             }
            },
            "type": "scattergl"
           }
          ],
          "scattermapbox": [
           {
            "marker": {
             "colorbar": {
              "outlinewidth": 0,
              "ticks": ""
             }
            },
            "type": "scattermapbox"
           }
          ],
          "scatterpolar": [
           {
            "marker": {
             "colorbar": {
              "outlinewidth": 0,
              "ticks": ""
             }
            },
            "type": "scatterpolar"
           }
          ],
          "scatterpolargl": [
           {
            "marker": {
             "colorbar": {
              "outlinewidth": 0,
              "ticks": ""
             }
            },
            "type": "scatterpolargl"
           }
          ],
          "scatterternary": [
           {
            "marker": {
             "colorbar": {
              "outlinewidth": 0,
              "ticks": ""
             }
            },
            "type": "scatterternary"
           }
          ],
          "surface": [
           {
            "colorbar": {
             "outlinewidth": 0,
             "ticks": ""
            },
            "colorscale": [
             [
              0,
              "#0d0887"
             ],
             [
              0.1111111111111111,
              "#46039f"
             ],
             [
              0.2222222222222222,
              "#7201a8"
             ],
             [
              0.3333333333333333,
              "#9c179e"
             ],
             [
              0.4444444444444444,
              "#bd3786"
             ],
             [
              0.5555555555555556,
              "#d8576b"
             ],
             [
              0.6666666666666666,
              "#ed7953"
             ],
             [
              0.7777777777777778,
              "#fb9f3a"
             ],
             [
              0.8888888888888888,
              "#fdca26"
             ],
             [
              1,
              "#f0f921"
             ]
            ],
            "type": "surface"
           }
          ],
          "table": [
           {
            "cells": {
             "fill": {
              "color": "#EBF0F8"
             },
             "line": {
              "color": "white"
             }
            },
            "header": {
             "fill": {
              "color": "#C8D4E3"
             },
             "line": {
              "color": "white"
             }
            },
            "type": "table"
           }
          ]
         },
         "layout": {
          "annotationdefaults": {
           "arrowcolor": "#2a3f5f",
           "arrowhead": 0,
           "arrowwidth": 1
          },
          "autotypenumbers": "strict",
          "coloraxis": {
           "colorbar": {
            "outlinewidth": 0,
            "ticks": ""
           }
          },
          "colorscale": {
           "diverging": [
            [
             0,
             "#8e0152"
            ],
            [
             0.1,
             "#c51b7d"
            ],
            [
             0.2,
             "#de77ae"
            ],
            [
             0.3,
             "#f1b6da"
            ],
            [
             0.4,
             "#fde0ef"
            ],
            [
             0.5,
             "#f7f7f7"
            ],
            [
             0.6,
             "#e6f5d0"
            ],
            [
             0.7,
             "#b8e186"
            ],
            [
             0.8,
             "#7fbc41"
            ],
            [
             0.9,
             "#4d9221"
            ],
            [
             1,
             "#276419"
            ]
           ],
           "sequential": [
            [
             0,
             "#0d0887"
            ],
            [
             0.1111111111111111,
             "#46039f"
            ],
            [
             0.2222222222222222,
             "#7201a8"
            ],
            [
             0.3333333333333333,
             "#9c179e"
            ],
            [
             0.4444444444444444,
             "#bd3786"
            ],
            [
             0.5555555555555556,
             "#d8576b"
            ],
            [
             0.6666666666666666,
             "#ed7953"
            ],
            [
             0.7777777777777778,
             "#fb9f3a"
            ],
            [
             0.8888888888888888,
             "#fdca26"
            ],
            [
             1,
             "#f0f921"
            ]
           ],
           "sequentialminus": [
            [
             0,
             "#0d0887"
            ],
            [
             0.1111111111111111,
             "#46039f"
            ],
            [
             0.2222222222222222,
             "#7201a8"
            ],
            [
             0.3333333333333333,
             "#9c179e"
            ],
            [
             0.4444444444444444,
             "#bd3786"
            ],
            [
             0.5555555555555556,
             "#d8576b"
            ],
            [
             0.6666666666666666,
             "#ed7953"
            ],
            [
             0.7777777777777778,
             "#fb9f3a"
            ],
            [
             0.8888888888888888,
             "#fdca26"
            ],
            [
             1,
             "#f0f921"
            ]
           ]
          },
          "colorway": [
           "#636efa",
           "#EF553B",
           "#00cc96",
           "#ab63fa",
           "#FFA15A",
           "#19d3f3",
           "#FF6692",
           "#B6E880",
           "#FF97FF",
           "#FECB52"
          ],
          "font": {
           "color": "#2a3f5f"
          },
          "geo": {
           "bgcolor": "white",
           "lakecolor": "white",
           "landcolor": "#E5ECF6",
           "showlakes": true,
           "showland": true,
           "subunitcolor": "white"
          },
          "hoverlabel": {
           "align": "left"
          },
          "hovermode": "closest",
          "mapbox": {
           "style": "light"
          },
          "paper_bgcolor": "white",
          "plot_bgcolor": "#E5ECF6",
          "polar": {
           "angularaxis": {
            "gridcolor": "white",
            "linecolor": "white",
            "ticks": ""
           },
           "bgcolor": "#E5ECF6",
           "radialaxis": {
            "gridcolor": "white",
            "linecolor": "white",
            "ticks": ""
           }
          },
          "scene": {
           "xaxis": {
            "backgroundcolor": "#E5ECF6",
            "gridcolor": "white",
            "gridwidth": 2,
            "linecolor": "white",
            "showbackground": true,
            "ticks": "",
            "zerolinecolor": "white"
           },
           "yaxis": {
            "backgroundcolor": "#E5ECF6",
            "gridcolor": "white",
            "gridwidth": 2,
            "linecolor": "white",
            "showbackground": true,
            "ticks": "",
            "zerolinecolor": "white"
           },
           "zaxis": {
            "backgroundcolor": "#E5ECF6",
            "gridcolor": "white",
            "gridwidth": 2,
            "linecolor": "white",
            "showbackground": true,
            "ticks": "",
            "zerolinecolor": "white"
           }
          },
          "shapedefaults": {
           "line": {
            "color": "#2a3f5f"
           }
          },
          "ternary": {
           "aaxis": {
            "gridcolor": "white",
            "linecolor": "white",
            "ticks": ""
           },
           "baxis": {
            "gridcolor": "white",
            "linecolor": "white",
            "ticks": ""
           },
           "bgcolor": "#E5ECF6",
           "caxis": {
            "gridcolor": "white",
            "linecolor": "white",
            "ticks": ""
           }
          },
          "title": {
           "x": 0.05
          },
          "xaxis": {
           "automargin": true,
           "gridcolor": "white",
           "linecolor": "white",
           "ticks": "",
           "title": {
            "standoff": 15
           },
           "zerolinecolor": "white",
           "zerolinewidth": 2
          },
          "yaxis": {
           "automargin": true,
           "gridcolor": "white",
           "linecolor": "white",
           "ticks": "",
           "title": {
            "standoff": 15
           },
           "zerolinecolor": "white",
           "zerolinewidth": 2
          }
         }
        },
        "title": {
         "text": "Sentence Distribution (Absolute and Relative Frequencies)"
        },
        "xaxis": {
         "anchor": "y",
         "domain": [
          0,
          1
         ],
         "title": {
          "text": "Sentence Type"
         }
        },
        "yaxis": {
         "anchor": "x",
         "domain": [
          0,
          1
         ],
         "title": {
          "text": "Absolute Frequency"
         }
        }
       }
      }
     },
     "metadata": {},
     "output_type": "display_data"
    }
   ],
   "source": [
    "# Creating dataframe for visualization\n",
    "df_sentenca = df[\"sentença\"].value_counts().reset_index()\n",
    "df_sentenca.columns = [\"Sentence Type\", \"Absolute Frequency\"]\n",
    "df_sentenca[\"Relative Frequency (%)\"] = (df_sentenca[\"Absolute Frequency\"] / df_sentenca[\"Absolute Frequency\"].sum()) * 100\n",
    "\n",
    "# Creating bar chart with percentage\n",
    "fig = px.bar(df_sentenca, x=\"Sentence Type\", y=\"Absolute Frequency\",\n",
    "             text=df_sentenca[\"Relative Frequency (%)\"].apply(lambda x: f\"{x:.1f}%\"),\n",
    "             title=\"Sentence Distribution (Absolute and Relative Frequencies)\")\n",
    "\n",
    "fig.update_traces(textposition='outside')\n",
    "fig.show()\n"
   ]
  },
  {
   "cell_type": "code",
   "execution_count": 14,
   "metadata": {},
   "outputs": [
    {
     "data": {
      "text/html": [
       "<div>\n",
       "<style scoped>\n",
       "    .dataframe tbody tr th:only-of-type {\n",
       "        vertical-align: middle;\n",
       "    }\n",
       "\n",
       "    .dataframe tbody tr th {\n",
       "        vertical-align: top;\n",
       "    }\n",
       "\n",
       "    .dataframe thead th {\n",
       "        text-align: right;\n",
       "    }\n",
       "</style>\n",
       "<table border=\"1\" class=\"dataframe\">\n",
       "  <thead>\n",
       "    <tr style=\"text-align: right;\">\n",
       "      <th></th>\n",
       "      <th>Absolute Frequency</th>\n",
       "      <th>Relative Frequency (%)</th>\n",
       "    </tr>\n",
       "    <tr>\n",
       "      <th>sentença</th>\n",
       "      <th></th>\n",
       "      <th></th>\n",
       "    </tr>\n",
       "  </thead>\n",
       "  <tbody>\n",
       "    <tr>\n",
       "      <th>procedente</th>\n",
       "      <td>7</td>\n",
       "      <td>63.636364</td>\n",
       "    </tr>\n",
       "    <tr>\n",
       "      <th>parcial</th>\n",
       "      <td>3</td>\n",
       "      <td>27.272727</td>\n",
       "    </tr>\n",
       "    <tr>\n",
       "      <th>improcedente</th>\n",
       "      <td>1</td>\n",
       "      <td>9.090909</td>\n",
       "    </tr>\n",
       "  </tbody>\n",
       "</table>\n",
       "</div>"
      ],
      "text/plain": [
       "              Absolute Frequency  Relative Frequency (%)\n",
       "sentença                                                \n",
       "procedente                     7               63.636364\n",
       "parcial                        3               27.272727\n",
       "improcedente                   1                9.090909"
      ]
     },
     "execution_count": 14,
     "metadata": {},
     "output_type": "execute_result"
    }
   ],
   "source": [
    "sentence_freq_table"
   ]
  },
  {
   "cell_type": "markdown",
   "metadata": {},
   "source": [
    "#### **3.5. Distribution of Processes by Comarca**\n",
    "\n",
    "The geographical analysis reveals that the majority of the processes are concentrated in a few specific comarcas. Figures 4 and 5 present the general distribution and the comarcas with the highest volume of lawsuits.\n",
    "\n",
    "- **São Paulo (20.5%) concentrates the highest number of processes**, followed by **Cabreúva** (9.7%) and **Lençóis Paulista** (4.7%).\n",
    "- Comarcas like **Francisco Morato** (4.6%), **Guarulhos** (3.7%) and **Campinas** (2.5%) also present high judicial demand.\n"
   ]
  },
  {
   "cell_type": "code",
   "execution_count": 15,
   "metadata": {},
   "outputs": [
    {
     "data": {
      "application/vnd.plotly.v1+json": {
       "config": {
        "plotlyServerURL": "https://plot.ly"
       },
       "data": [
        {
         "alignmentgroup": "True",
         "hovertemplate": "Comarca=%{x}<br>Absolute Frequency=%{y}<br>text=%{text}<extra></extra>",
         "legendgroup": "",
         "marker": {
          "color": "#636efa",
          "pattern": {
           "shape": ""
          }
         },
         "name": "",
         "offsetgroup": "",
         "orientation": "v",
         "showlegend": false,
         "text": [
          "9.1%",
          "9.1%",
          "9.1%",
          "9.1%",
          "9.1%",
          "9.1%",
          "9.1%",
          "9.1%",
          "9.1%",
          "9.1%",
          "9.1%"
         ],
         "textposition": "outside",
         "type": "bar",
         "x": [
          "taquaritinga",
          "presidente epitacio",
          "cerqueira cesar",
          "lins",
          "rosana",
          "araraquara",
          "cajuru",
          "conchas",
          "agudos",
          "santa cruz das palmeiras",
          "artur nogueira"
         ],
         "xaxis": "x",
         "y": [
          1,
          1,
          1,
          1,
          1,
          1,
          1,
          1,
          1,
          1,
          1
         ],
         "yaxis": "y"
        }
       ],
       "layout": {
        "barmode": "relative",
        "legend": {
         "tracegroupgap": 0
        },
        "template": {
         "data": {
          "bar": [
           {
            "error_x": {
             "color": "#2a3f5f"
            },
            "error_y": {
             "color": "#2a3f5f"
            },
            "marker": {
             "line": {
              "color": "#E5ECF6",
              "width": 0.5
             },
             "pattern": {
              "fillmode": "overlay",
              "size": 10,
              "solidity": 0.2
             }
            },
            "type": "bar"
           }
          ],
          "barpolar": [
           {
            "marker": {
             "line": {
              "color": "#E5ECF6",
              "width": 0.5
             },
             "pattern": {
              "fillmode": "overlay",
              "size": 10,
              "solidity": 0.2
             }
            },
            "type": "barpolar"
           }
          ],
          "carpet": [
           {
            "aaxis": {
             "endlinecolor": "#2a3f5f",
             "gridcolor": "white",
             "linecolor": "white",
             "minorgridcolor": "white",
             "startlinecolor": "#2a3f5f"
            },
            "baxis": {
             "endlinecolor": "#2a3f5f",
             "gridcolor": "white",
             "linecolor": "white",
             "minorgridcolor": "white",
             "startlinecolor": "#2a3f5f"
            },
            "type": "carpet"
           }
          ],
          "choropleth": [
           {
            "colorbar": {
             "outlinewidth": 0,
             "ticks": ""
            },
            "type": "choropleth"
           }
          ],
          "contour": [
           {
            "colorbar": {
             "outlinewidth": 0,
             "ticks": ""
            },
            "colorscale": [
             [
              0,
              "#0d0887"
             ],
             [
              0.1111111111111111,
              "#46039f"
             ],
             [
              0.2222222222222222,
              "#7201a8"
             ],
             [
              0.3333333333333333,
              "#9c179e"
             ],
             [
              0.4444444444444444,
              "#bd3786"
             ],
             [
              0.5555555555555556,
              "#d8576b"
             ],
             [
              0.6666666666666666,
              "#ed7953"
             ],
             [
              0.7777777777777778,
              "#fb9f3a"
             ],
             [
              0.8888888888888888,
              "#fdca26"
             ],
             [
              1,
              "#f0f921"
             ]
            ],
            "type": "contour"
           }
          ],
          "contourcarpet": [
           {
            "colorbar": {
             "outlinewidth": 0,
             "ticks": ""
            },
            "type": "contourcarpet"
           }
          ],
          "heatmap": [
           {
            "colorbar": {
             "outlinewidth": 0,
             "ticks": ""
            },
            "colorscale": [
             [
              0,
              "#0d0887"
             ],
             [
              0.1111111111111111,
              "#46039f"
             ],
             [
              0.2222222222222222,
              "#7201a8"
             ],
             [
              0.3333333333333333,
              "#9c179e"
             ],
             [
              0.4444444444444444,
              "#bd3786"
             ],
             [
              0.5555555555555556,
              "#d8576b"
             ],
             [
              0.6666666666666666,
              "#ed7953"
             ],
             [
              0.7777777777777778,
              "#fb9f3a"
             ],
             [
              0.8888888888888888,
              "#fdca26"
             ],
             [
              1,
              "#f0f921"
             ]
            ],
            "type": "heatmap"
           }
          ],
          "heatmapgl": [
           {
            "colorbar": {
             "outlinewidth": 0,
             "ticks": ""
            },
            "colorscale": [
             [
              0,
              "#0d0887"
             ],
             [
              0.1111111111111111,
              "#46039f"
             ],
             [
              0.2222222222222222,
              "#7201a8"
             ],
             [
              0.3333333333333333,
              "#9c179e"
             ],
             [
              0.4444444444444444,
              "#bd3786"
             ],
             [
              0.5555555555555556,
              "#d8576b"
             ],
             [
              0.6666666666666666,
              "#ed7953"
             ],
             [
              0.7777777777777778,
              "#fb9f3a"
             ],
             [
              0.8888888888888888,
              "#fdca26"
             ],
             [
              1,
              "#f0f921"
             ]
            ],
            "type": "heatmapgl"
           }
          ],
          "histogram": [
           {
            "marker": {
             "pattern": {
              "fillmode": "overlay",
              "size": 10,
              "solidity": 0.2
             }
            },
            "type": "histogram"
           }
          ],
          "histogram2d": [
           {
            "colorbar": {
             "outlinewidth": 0,
             "ticks": ""
            },
            "colorscale": [
             [
              0,
              "#0d0887"
             ],
             [
              0.1111111111111111,
              "#46039f"
             ],
             [
              0.2222222222222222,
              "#7201a8"
             ],
             [
              0.3333333333333333,
              "#9c179e"
             ],
             [
              0.4444444444444444,
              "#bd3786"
             ],
             [
              0.5555555555555556,
              "#d8576b"
             ],
             [
              0.6666666666666666,
              "#ed7953"
             ],
             [
              0.7777777777777778,
              "#fb9f3a"
             ],
             [
              0.8888888888888888,
              "#fdca26"
             ],
             [
              1,
              "#f0f921"
             ]
            ],
            "type": "histogram2d"
           }
          ],
          "histogram2dcontour": [
           {
            "colorbar": {
             "outlinewidth": 0,
             "ticks": ""
            },
            "colorscale": [
             [
              0,
              "#0d0887"
             ],
             [
              0.1111111111111111,
              "#46039f"
             ],
             [
              0.2222222222222222,
              "#7201a8"
             ],
             [
              0.3333333333333333,
              "#9c179e"
             ],
             [
              0.4444444444444444,
              "#bd3786"
             ],
             [
              0.5555555555555556,
              "#d8576b"
             ],
             [
              0.6666666666666666,
              "#ed7953"
             ],
             [
              0.7777777777777778,
              "#fb9f3a"
             ],
             [
              0.8888888888888888,
              "#fdca26"
             ],
             [
              1,
              "#f0f921"
             ]
            ],
            "type": "histogram2dcontour"
           }
          ],
          "mesh3d": [
           {
            "colorbar": {
             "outlinewidth": 0,
             "ticks": ""
            },
            "type": "mesh3d"
           }
          ],
          "parcoords": [
           {
            "line": {
             "colorbar": {
              "outlinewidth": 0,
              "ticks": ""
             }
            },
            "type": "parcoords"
           }
          ],
          "pie": [
           {
            "automargin": true,
            "type": "pie"
           }
          ],
          "scatter": [
           {
            "fillpattern": {
             "fillmode": "overlay",
             "size": 10,
             "solidity": 0.2
            },
            "type": "scatter"
           }
          ],
          "scatter3d": [
           {
            "line": {
             "colorbar": {
              "outlinewidth": 0,
              "ticks": ""
             }
            },
            "marker": {
             "colorbar": {
              "outlinewidth": 0,
              "ticks": ""
             }
            },
            "type": "scatter3d"
           }
          ],
          "scattercarpet": [
           {
            "marker": {
             "colorbar": {
              "outlinewidth": 0,
              "ticks": ""
             }
            },
            "type": "scattercarpet"
           }
          ],
          "scattergeo": [
           {
            "marker": {
             "colorbar": {
              "outlinewidth": 0,
              "ticks": ""
             }
            },
            "type": "scattergeo"
           }
          ],
          "scattergl": [
           {
            "marker": {
             "colorbar": {
              "outlinewidth": 0,
              "ticks": ""
             }
            },
            "type": "scattergl"
           }
          ],
          "scattermapbox": [
           {
            "marker": {
             "colorbar": {
              "outlinewidth": 0,
              "ticks": ""
             }
            },
            "type": "scattermapbox"
           }
          ],
          "scatterpolar": [
           {
            "marker": {
             "colorbar": {
              "outlinewidth": 0,
              "ticks": ""
             }
            },
            "type": "scatterpolar"
           }
          ],
          "scatterpolargl": [
           {
            "marker": {
             "colorbar": {
              "outlinewidth": 0,
              "ticks": ""
             }
            },
            "type": "scatterpolargl"
           }
          ],
          "scatterternary": [
           {
            "marker": {
             "colorbar": {
              "outlinewidth": 0,
              "ticks": ""
             }
            },
            "type": "scatterternary"
           }
          ],
          "surface": [
           {
            "colorbar": {
             "outlinewidth": 0,
             "ticks": ""
            },
            "colorscale": [
             [
              0,
              "#0d0887"
             ],
             [
              0.1111111111111111,
              "#46039f"
             ],
             [
              0.2222222222222222,
              "#7201a8"
             ],
             [
              0.3333333333333333,
              "#9c179e"
             ],
             [
              0.4444444444444444,
              "#bd3786"
             ],
             [
              0.5555555555555556,
              "#d8576b"
             ],
             [
              0.6666666666666666,
              "#ed7953"
             ],
             [
              0.7777777777777778,
              "#fb9f3a"
             ],
             [
              0.8888888888888888,
              "#fdca26"
             ],
             [
              1,
              "#f0f921"
             ]
            ],
            "type": "surface"
           }
          ],
          "table": [
           {
            "cells": {
             "fill": {
              "color": "#EBF0F8"
             },
             "line": {
              "color": "white"
             }
            },
            "header": {
             "fill": {
              "color": "#C8D4E3"
             },
             "line": {
              "color": "white"
             }
            },
            "type": "table"
           }
          ]
         },
         "layout": {
          "annotationdefaults": {
           "arrowcolor": "#2a3f5f",
           "arrowhead": 0,
           "arrowwidth": 1
          },
          "autotypenumbers": "strict",
          "coloraxis": {
           "colorbar": {
            "outlinewidth": 0,
            "ticks": ""
           }
          },
          "colorscale": {
           "diverging": [
            [
             0,
             "#8e0152"
            ],
            [
             0.1,
             "#c51b7d"
            ],
            [
             0.2,
             "#de77ae"
            ],
            [
             0.3,
             "#f1b6da"
            ],
            [
             0.4,
             "#fde0ef"
            ],
            [
             0.5,
             "#f7f7f7"
            ],
            [
             0.6,
             "#e6f5d0"
            ],
            [
             0.7,
             "#b8e186"
            ],
            [
             0.8,
             "#7fbc41"
            ],
            [
             0.9,
             "#4d9221"
            ],
            [
             1,
             "#276419"
            ]
           ],
           "sequential": [
            [
             0,
             "#0d0887"
            ],
            [
             0.1111111111111111,
             "#46039f"
            ],
            [
             0.2222222222222222,
             "#7201a8"
            ],
            [
             0.3333333333333333,
             "#9c179e"
            ],
            [
             0.4444444444444444,
             "#bd3786"
            ],
            [
             0.5555555555555556,
             "#d8576b"
            ],
            [
             0.6666666666666666,
             "#ed7953"
            ],
            [
             0.7777777777777778,
             "#fb9f3a"
            ],
            [
             0.8888888888888888,
             "#fdca26"
            ],
            [
             1,
             "#f0f921"
            ]
           ],
           "sequentialminus": [
            [
             0,
             "#0d0887"
            ],
            [
             0.1111111111111111,
             "#46039f"
            ],
            [
             0.2222222222222222,
             "#7201a8"
            ],
            [
             0.3333333333333333,
             "#9c179e"
            ],
            [
             0.4444444444444444,
             "#bd3786"
            ],
            [
             0.5555555555555556,
             "#d8576b"
            ],
            [
             0.6666666666666666,
             "#ed7953"
            ],
            [
             0.7777777777777778,
             "#fb9f3a"
            ],
            [
             0.8888888888888888,
             "#fdca26"
            ],
            [
             1,
             "#f0f921"
            ]
           ]
          },
          "colorway": [
           "#636efa",
           "#EF553B",
           "#00cc96",
           "#ab63fa",
           "#FFA15A",
           "#19d3f3",
           "#FF6692",
           "#B6E880",
           "#FF97FF",
           "#FECB52"
          ],
          "font": {
           "color": "#2a3f5f"
          },
          "geo": {
           "bgcolor": "white",
           "lakecolor": "white",
           "landcolor": "#E5ECF6",
           "showlakes": true,
           "showland": true,
           "subunitcolor": "white"
          },
          "hoverlabel": {
           "align": "left"
          },
          "hovermode": "closest",
          "mapbox": {
           "style": "light"
          },
          "paper_bgcolor": "white",
          "plot_bgcolor": "#E5ECF6",
          "polar": {
           "angularaxis": {
            "gridcolor": "white",
            "linecolor": "white",
            "ticks": ""
           },
           "bgcolor": "#E5ECF6",
           "radialaxis": {
            "gridcolor": "white",
            "linecolor": "white",
            "ticks": ""
           }
          },
          "scene": {
           "xaxis": {
            "backgroundcolor": "#E5ECF6",
            "gridcolor": "white",
            "gridwidth": 2,
            "linecolor": "white",
            "showbackground": true,
            "ticks": "",
            "zerolinecolor": "white"
           },
           "yaxis": {
            "backgroundcolor": "#E5ECF6",
            "gridcolor": "white",
            "gridwidth": 2,
            "linecolor": "white",
            "showbackground": true,
            "ticks": "",
            "zerolinecolor": "white"
           },
           "zaxis": {
            "backgroundcolor": "#E5ECF6",
            "gridcolor": "white",
            "gridwidth": 2,
            "linecolor": "white",
            "showbackground": true,
            "ticks": "",
            "zerolinecolor": "white"
           }
          },
          "shapedefaults": {
           "line": {
            "color": "#2a3f5f"
           }
          },
          "ternary": {
           "aaxis": {
            "gridcolor": "white",
            "linecolor": "white",
            "ticks": ""
           },
           "baxis": {
            "gridcolor": "white",
            "linecolor": "white",
            "ticks": ""
           },
           "bgcolor": "#E5ECF6",
           "caxis": {
            "gridcolor": "white",
            "linecolor": "white",
            "ticks": ""
           }
          },
          "title": {
           "x": 0.05
          },
          "xaxis": {
           "automargin": true,
           "gridcolor": "white",
           "linecolor": "white",
           "ticks": "",
           "title": {
            "standoff": 15
           },
           "zerolinecolor": "white",
           "zerolinewidth": 2
          },
          "yaxis": {
           "automargin": true,
           "gridcolor": "white",
           "linecolor": "white",
           "ticks": "",
           "title": {
            "standoff": 15
           },
           "zerolinecolor": "white",
           "zerolinewidth": 2
          }
         }
        },
        "title": {
         "text": "Number of Processes by Comarca (Absolute and Relative)"
        },
        "xaxis": {
         "anchor": "y",
         "categoryorder": "total descending",
         "domain": [
          0,
          1
         ],
         "title": {
          "text": "Comarca"
         }
        },
        "yaxis": {
         "anchor": "x",
         "domain": [
          0,
          1
         ],
         "title": {
          "text": "Absolute Frequency"
         }
        }
       }
      }
     },
     "metadata": {},
     "output_type": "display_data"
    }
   ],
   "source": [
    "# Visualization 4: Counting occurrences of each Comarca\n",
    "df_comarca = df[\"Comarca\"].value_counts().reset_index()\n",
    "df_comarca.columns = [\"Comarca\", \"Absolute Frequency\"]\n",
    "df_comarca[\"Relative Frequency (%)\"] = (df_comarca[\"Absolute Frequency\"] / df_comarca[\"Absolute Frequency\"].sum()) * 100\n",
    "\n",
    "fig = px.bar(df_comarca, x=\"Comarca\", y=\"Absolute Frequency\",\n",
    "             text=df_comarca[\"Relative Frequency (%)\"].apply(lambda x: f\"{x:.1f}%\"),\n",
    "             title=\"Number of Processes by Comarca (Absolute and Relative)\")\n",
    "\n",
    "fig.update_xaxes(categoryorder='total descending')\n",
    "fig.update_traces(textposition='outside')\n",
    "fig.show()\n"
   ]
  },
  {
   "cell_type": "markdown",
   "metadata": {},
   "source": [
    "#### **3.6. Geospatial Mapping of Lawsuits**\n",
    "\n",
    "Figure 6 presents a **heatmap** of the distribution of lawsuits in the analyzed territory.\n",
    "\n",
    "- Regions in **red** indicate higher concentration of lawsuits.\n",
    "- São Paulo and its metropolitan region have **high lawsuit density**.\n",
    "- Three intense heat clusters are observed centered in the regions of **São Paulo**, **Campinas** and **Ribeirão Preto** in decreasing order.\n",
    "\n",
    "This data corroborates the thesis that more populous areas of the state have more legal activity.\n"
   ]
  },
  {
   "cell_type": "code",
   "execution_count": 16,
   "metadata": {},
   "outputs": [
    {
     "data": {
      "text/html": [
       "<div style=\"width:100%;\"><div style=\"position:relative;width:100%;height:0;padding-bottom:60%;\"><span style=\"color:#565656\">Make this Notebook Trusted to load map: File -> Trust Notebook</span><iframe srcdoc=\"&lt;!DOCTYPE html&gt;\n",
       "&lt;html&gt;\n",
       "&lt;head&gt;\n",
       "    \n",
       "    &lt;meta http-equiv=&quot;content-type&quot; content=&quot;text/html; charset=UTF-8&quot; /&gt;\n",
       "    \n",
       "        &lt;script&gt;\n",
       "            L_NO_TOUCH = false;\n",
       "            L_DISABLE_3D = false;\n",
       "        &lt;/script&gt;\n",
       "    \n",
       "    &lt;style&gt;html, body {width: 100%;height: 100%;margin: 0;padding: 0;}&lt;/style&gt;\n",
       "    &lt;style&gt;#map {position:absolute;top:0;bottom:0;right:0;left:0;}&lt;/style&gt;\n",
       "    &lt;script src=&quot;https://cdn.jsdelivr.net/npm/leaflet@1.9.3/dist/leaflet.js&quot;&gt;&lt;/script&gt;\n",
       "    &lt;script src=&quot;https://code.jquery.com/jquery-3.7.1.min.js&quot;&gt;&lt;/script&gt;\n",
       "    &lt;script src=&quot;https://cdn.jsdelivr.net/npm/bootstrap@5.2.2/dist/js/bootstrap.bundle.min.js&quot;&gt;&lt;/script&gt;\n",
       "    &lt;script src=&quot;https://cdnjs.cloudflare.com/ajax/libs/Leaflet.awesome-markers/2.0.2/leaflet.awesome-markers.js&quot;&gt;&lt;/script&gt;\n",
       "    &lt;link rel=&quot;stylesheet&quot; href=&quot;https://cdn.jsdelivr.net/npm/leaflet@1.9.3/dist/leaflet.css&quot;/&gt;\n",
       "    &lt;link rel=&quot;stylesheet&quot; href=&quot;https://cdn.jsdelivr.net/npm/bootstrap@5.2.2/dist/css/bootstrap.min.css&quot;/&gt;\n",
       "    &lt;link rel=&quot;stylesheet&quot; href=&quot;https://netdna.bootstrapcdn.com/bootstrap/3.0.0/css/bootstrap-glyphicons.css&quot;/&gt;\n",
       "    &lt;link rel=&quot;stylesheet&quot; href=&quot;https://cdn.jsdelivr.net/npm/@fortawesome/fontawesome-free@6.2.0/css/all.min.css&quot;/&gt;\n",
       "    &lt;link rel=&quot;stylesheet&quot; href=&quot;https://cdnjs.cloudflare.com/ajax/libs/Leaflet.awesome-markers/2.0.2/leaflet.awesome-markers.css&quot;/&gt;\n",
       "    &lt;link rel=&quot;stylesheet&quot; href=&quot;https://cdn.jsdelivr.net/gh/python-visualization/folium/folium/templates/leaflet.awesome.rotate.min.css&quot;/&gt;\n",
       "    \n",
       "            &lt;meta name=&quot;viewport&quot; content=&quot;width=device-width,\n",
       "                initial-scale=1.0, maximum-scale=1.0, user-scalable=no&quot; /&gt;\n",
       "            &lt;style&gt;\n",
       "                #map_75b5e3a0319d7e50bb13355b36b6182a {\n",
       "                    position: relative;\n",
       "                    width: 100.0%;\n",
       "                    height: 100.0%;\n",
       "                    left: 0.0%;\n",
       "                    top: 0.0%;\n",
       "                }\n",
       "                .leaflet-container { font-size: 1rem; }\n",
       "            &lt;/style&gt;\n",
       "        \n",
       "    &lt;script src=&quot;https://cdn.jsdelivr.net/gh/python-visualization/folium@main/folium/templates/leaflet_heat.min.js&quot;&gt;&lt;/script&gt;\n",
       "&lt;/head&gt;\n",
       "&lt;body&gt;\n",
       "    \n",
       "    \n",
       "            &lt;div class=&quot;folium-map&quot; id=&quot;map_75b5e3a0319d7e50bb13355b36b6182a&quot; &gt;&lt;/div&gt;\n",
       "        \n",
       "&lt;/body&gt;\n",
       "&lt;script&gt;\n",
       "    \n",
       "    \n",
       "            var map_75b5e3a0319d7e50bb13355b36b6182a = L.map(\n",
       "                &quot;map_75b5e3a0319d7e50bb13355b36b6182a&quot;,\n",
       "                {\n",
       "                    center: [-23.5505, -46.6333],\n",
       "                    crs: L.CRS.EPSG3857,\n",
       "                    ...{\n",
       "  &quot;zoom&quot;: 7,\n",
       "  &quot;zoomControl&quot;: true,\n",
       "  &quot;preferCanvas&quot;: false,\n",
       "}\n",
       "\n",
       "                }\n",
       "            );\n",
       "\n",
       "            \n",
       "\n",
       "        \n",
       "    \n",
       "            var tile_layer_c0aa7c2a667c37e7032616ca7ec99a91 = L.tileLayer(\n",
       "                &quot;https://tile.openstreetmap.org/{z}/{x}/{y}.png&quot;,\n",
       "                {\n",
       "  &quot;minZoom&quot;: 0,\n",
       "  &quot;maxZoom&quot;: 19,\n",
       "  &quot;maxNativeZoom&quot;: 19,\n",
       "  &quot;noWrap&quot;: false,\n",
       "  &quot;attribution&quot;: &quot;\\u0026copy; \\u003ca href=\\&quot;https://www.openstreetmap.org/copyright\\&quot;\\u003eOpenStreetMap\\u003c/a\\u003e contributors&quot;,\n",
       "  &quot;subdomains&quot;: &quot;abc&quot;,\n",
       "  &quot;detectRetina&quot;: false,\n",
       "  &quot;tms&quot;: false,\n",
       "  &quot;opacity&quot;: 1,\n",
       "}\n",
       "\n",
       "            );\n",
       "        \n",
       "    \n",
       "            tile_layer_c0aa7c2a667c37e7032616ca7ec99a91.addTo(map_75b5e3a0319d7e50bb13355b36b6182a);\n",
       "        \n",
       "    \n",
       "            var circle_marker_b1bd03f7870c956bd5bc40352783f209 = L.circleMarker(\n",
       "                [-21.4252084884, -48.5373985293],\n",
       "                {&quot;bubblingMouseEvents&quot;: true, &quot;color&quot;: &quot;blue&quot;, &quot;dashArray&quot;: null, &quot;dashOffset&quot;: null, &quot;fill&quot;: true, &quot;fillColor&quot;: &quot;blue&quot;, &quot;fillOpacity&quot;: 0.6, &quot;fillRule&quot;: &quot;evenodd&quot;, &quot;lineCap&quot;: &quot;round&quot;, &quot;lineJoin&quot;: &quot;round&quot;, &quot;opacity&quot;: 1.0, &quot;radius&quot;: 3, &quot;stroke&quot;: true, &quot;weight&quot;: 3}\n",
       "            ).addTo(map_75b5e3a0319d7e50bb13355b36b6182a);\n",
       "        \n",
       "    \n",
       "        var popup_8298f7507d90f5a82f4aa1edb77aaf02 = L.popup({\n",
       "  &quot;maxWidth&quot;: &quot;100%&quot;,\n",
       "});\n",
       "\n",
       "        \n",
       "            \n",
       "                var html_e16864e02cea790714b6d9e1a3d324f4 = $(`&lt;div id=&quot;html_e16864e02cea790714b6d9e1a3d324f4&quot; style=&quot;width: 100.0%; height: 100.0%;&quot;&gt;taquaritinga&lt;br&gt;Processos: 1&lt;/div&gt;`)[0];\n",
       "                popup_8298f7507d90f5a82f4aa1edb77aaf02.setContent(html_e16864e02cea790714b6d9e1a3d324f4);\n",
       "            \n",
       "        \n",
       "\n",
       "        circle_marker_b1bd03f7870c956bd5bc40352783f209.bindPopup(popup_8298f7507d90f5a82f4aa1edb77aaf02)\n",
       "        ;\n",
       "\n",
       "        \n",
       "    \n",
       "    \n",
       "            circle_marker_b1bd03f7870c956bd5bc40352783f209.bindTooltip(\n",
       "                `&lt;div&gt;\n",
       "                     taquaritinga\n",
       "                 &lt;/div&gt;`,\n",
       "                {\n",
       "  &quot;sticky&quot;: true,\n",
       "}\n",
       "            );\n",
       "        \n",
       "    \n",
       "            var circle_marker_3f5efe239d46230840af6b22c383ce41 = L.circleMarker(\n",
       "                [-21.765074, -52.11114],\n",
       "                {&quot;bubblingMouseEvents&quot;: true, &quot;color&quot;: &quot;blue&quot;, &quot;dashArray&quot;: null, &quot;dashOffset&quot;: null, &quot;fill&quot;: true, &quot;fillColor&quot;: &quot;blue&quot;, &quot;fillOpacity&quot;: 0.6, &quot;fillRule&quot;: &quot;evenodd&quot;, &quot;lineCap&quot;: &quot;round&quot;, &quot;lineJoin&quot;: &quot;round&quot;, &quot;opacity&quot;: 1.0, &quot;radius&quot;: 3, &quot;stroke&quot;: true, &quot;weight&quot;: 3}\n",
       "            ).addTo(map_75b5e3a0319d7e50bb13355b36b6182a);\n",
       "        \n",
       "    \n",
       "        var popup_cd592a0ad4919abac420b01c57512cf5 = L.popup({\n",
       "  &quot;maxWidth&quot;: &quot;100%&quot;,\n",
       "});\n",
       "\n",
       "        \n",
       "            \n",
       "                var html_2fab1b39f2d33b142781cc4e3887e873 = $(`&lt;div id=&quot;html_2fab1b39f2d33b142781cc4e3887e873&quot; style=&quot;width: 100.0%; height: 100.0%;&quot;&gt;presidente epitacio&lt;br&gt;Processos: 1&lt;/div&gt;`)[0];\n",
       "                popup_cd592a0ad4919abac420b01c57512cf5.setContent(html_2fab1b39f2d33b142781cc4e3887e873);\n",
       "            \n",
       "        \n",
       "\n",
       "        circle_marker_3f5efe239d46230840af6b22c383ce41.bindPopup(popup_cd592a0ad4919abac420b01c57512cf5)\n",
       "        ;\n",
       "\n",
       "        \n",
       "    \n",
       "    \n",
       "            circle_marker_3f5efe239d46230840af6b22c383ce41.bindTooltip(\n",
       "                `&lt;div&gt;\n",
       "                     presidente epitacio\n",
       "                 &lt;/div&gt;`,\n",
       "                {\n",
       "  &quot;sticky&quot;: true,\n",
       "}\n",
       "            );\n",
       "        \n",
       "    \n",
       "            var circle_marker_9b50dc854da064b489b52bcb5d8c9ebf = L.circleMarker(\n",
       "                [-23.0353135, -49.1650519],\n",
       "                {&quot;bubblingMouseEvents&quot;: true, &quot;color&quot;: &quot;blue&quot;, &quot;dashArray&quot;: null, &quot;dashOffset&quot;: null, &quot;fill&quot;: true, &quot;fillColor&quot;: &quot;blue&quot;, &quot;fillOpacity&quot;: 0.6, &quot;fillRule&quot;: &quot;evenodd&quot;, &quot;lineCap&quot;: &quot;round&quot;, &quot;lineJoin&quot;: &quot;round&quot;, &quot;opacity&quot;: 1.0, &quot;radius&quot;: 3, &quot;stroke&quot;: true, &quot;weight&quot;: 3}\n",
       "            ).addTo(map_75b5e3a0319d7e50bb13355b36b6182a);\n",
       "        \n",
       "    \n",
       "        var popup_534b27ebf1c97d097dc95b932af49de0 = L.popup({\n",
       "  &quot;maxWidth&quot;: &quot;100%&quot;,\n",
       "});\n",
       "\n",
       "        \n",
       "            \n",
       "                var html_047edd3fd4bf4ff038dc6f2fc7672f00 = $(`&lt;div id=&quot;html_047edd3fd4bf4ff038dc6f2fc7672f00&quot; style=&quot;width: 100.0%; height: 100.0%;&quot;&gt;cerqueira cesar&lt;br&gt;Processos: 1&lt;/div&gt;`)[0];\n",
       "                popup_534b27ebf1c97d097dc95b932af49de0.setContent(html_047edd3fd4bf4ff038dc6f2fc7672f00);\n",
       "            \n",
       "        \n",
       "\n",
       "        circle_marker_9b50dc854da064b489b52bcb5d8c9ebf.bindPopup(popup_534b27ebf1c97d097dc95b932af49de0)\n",
       "        ;\n",
       "\n",
       "        \n",
       "    \n",
       "    \n",
       "            circle_marker_9b50dc854da064b489b52bcb5d8c9ebf.bindTooltip(\n",
       "                `&lt;div&gt;\n",
       "                     cerqueira cesar\n",
       "                 &lt;/div&gt;`,\n",
       "                {\n",
       "  &quot;sticky&quot;: true,\n",
       "}\n",
       "            );\n",
       "        \n",
       "    \n",
       "            var circle_marker_c99792c3048b33139f6f1bac107543ab = L.circleMarker(\n",
       "                [-21.6494209351, -49.682865822],\n",
       "                {&quot;bubblingMouseEvents&quot;: true, &quot;color&quot;: &quot;blue&quot;, &quot;dashArray&quot;: null, &quot;dashOffset&quot;: null, &quot;fill&quot;: true, &quot;fillColor&quot;: &quot;blue&quot;, &quot;fillOpacity&quot;: 0.6, &quot;fillRule&quot;: &quot;evenodd&quot;, &quot;lineCap&quot;: &quot;round&quot;, &quot;lineJoin&quot;: &quot;round&quot;, &quot;opacity&quot;: 1.0, &quot;radius&quot;: 3, &quot;stroke&quot;: true, &quot;weight&quot;: 3}\n",
       "            ).addTo(map_75b5e3a0319d7e50bb13355b36b6182a);\n",
       "        \n",
       "    \n",
       "        var popup_78088336f783972e8a3ca6ce0c9b8084 = L.popup({\n",
       "  &quot;maxWidth&quot;: &quot;100%&quot;,\n",
       "});\n",
       "\n",
       "        \n",
       "            \n",
       "                var html_6718e7d0ba8fb92f56e456706331909d = $(`&lt;div id=&quot;html_6718e7d0ba8fb92f56e456706331909d&quot; style=&quot;width: 100.0%; height: 100.0%;&quot;&gt;lins&lt;br&gt;Processos: 1&lt;/div&gt;`)[0];\n",
       "                popup_78088336f783972e8a3ca6ce0c9b8084.setContent(html_6718e7d0ba8fb92f56e456706331909d);\n",
       "            \n",
       "        \n",
       "\n",
       "        circle_marker_c99792c3048b33139f6f1bac107543ab.bindPopup(popup_78088336f783972e8a3ca6ce0c9b8084)\n",
       "        ;\n",
       "\n",
       "        \n",
       "    \n",
       "    \n",
       "            circle_marker_c99792c3048b33139f6f1bac107543ab.bindTooltip(\n",
       "                `&lt;div&gt;\n",
       "                     lins\n",
       "                 &lt;/div&gt;`,\n",
       "                {\n",
       "  &quot;sticky&quot;: true,\n",
       "}\n",
       "            );\n",
       "        \n",
       "    \n",
       "            var circle_marker_bfca2922bace3bf4935cd9e6d2b04d03 = L.circleMarker(\n",
       "                [-22.4882793375, -52.8362663601],\n",
       "                {&quot;bubblingMouseEvents&quot;: true, &quot;color&quot;: &quot;blue&quot;, &quot;dashArray&quot;: null, &quot;dashOffset&quot;: null, &quot;fill&quot;: true, &quot;fillColor&quot;: &quot;blue&quot;, &quot;fillOpacity&quot;: 0.6, &quot;fillRule&quot;: &quot;evenodd&quot;, &quot;lineCap&quot;: &quot;round&quot;, &quot;lineJoin&quot;: &quot;round&quot;, &quot;opacity&quot;: 1.0, &quot;radius&quot;: 3, &quot;stroke&quot;: true, &quot;weight&quot;: 3}\n",
       "            ).addTo(map_75b5e3a0319d7e50bb13355b36b6182a);\n",
       "        \n",
       "    \n",
       "        var popup_79d074cd88c406b3fa97249dd252993f = L.popup({\n",
       "  &quot;maxWidth&quot;: &quot;100%&quot;,\n",
       "});\n",
       "\n",
       "        \n",
       "            \n",
       "                var html_34c0394bf01b27ab25b79038dc14d5e2 = $(`&lt;div id=&quot;html_34c0394bf01b27ab25b79038dc14d5e2&quot; style=&quot;width: 100.0%; height: 100.0%;&quot;&gt;rosana&lt;br&gt;Processos: 1&lt;/div&gt;`)[0];\n",
       "                popup_79d074cd88c406b3fa97249dd252993f.setContent(html_34c0394bf01b27ab25b79038dc14d5e2);\n",
       "            \n",
       "        \n",
       "\n",
       "        circle_marker_bfca2922bace3bf4935cd9e6d2b04d03.bindPopup(popup_79d074cd88c406b3fa97249dd252993f)\n",
       "        ;\n",
       "\n",
       "        \n",
       "    \n",
       "    \n",
       "            circle_marker_bfca2922bace3bf4935cd9e6d2b04d03.bindTooltip(\n",
       "                `&lt;div&gt;\n",
       "                     rosana\n",
       "                 &lt;/div&gt;`,\n",
       "                {\n",
       "  &quot;sticky&quot;: true,\n",
       "}\n",
       "            );\n",
       "        \n",
       "    \n",
       "            var circle_marker_a733dd3af0338723e7dc0b999f262213 = L.circleMarker(\n",
       "                [-21.7909198511, -48.1808390004],\n",
       "                {&quot;bubblingMouseEvents&quot;: true, &quot;color&quot;: &quot;blue&quot;, &quot;dashArray&quot;: null, &quot;dashOffset&quot;: null, &quot;fill&quot;: true, &quot;fillColor&quot;: &quot;blue&quot;, &quot;fillOpacity&quot;: 0.6, &quot;fillRule&quot;: &quot;evenodd&quot;, &quot;lineCap&quot;: &quot;round&quot;, &quot;lineJoin&quot;: &quot;round&quot;, &quot;opacity&quot;: 1.0, &quot;radius&quot;: 3, &quot;stroke&quot;: true, &quot;weight&quot;: 3}\n",
       "            ).addTo(map_75b5e3a0319d7e50bb13355b36b6182a);\n",
       "        \n",
       "    \n",
       "        var popup_b57df0641114ce356428a658a3ef7e85 = L.popup({\n",
       "  &quot;maxWidth&quot;: &quot;100%&quot;,\n",
       "});\n",
       "\n",
       "        \n",
       "            \n",
       "                var html_986b0f9a34d4863a473db6b508e29f7e = $(`&lt;div id=&quot;html_986b0f9a34d4863a473db6b508e29f7e&quot; style=&quot;width: 100.0%; height: 100.0%;&quot;&gt;araraquara&lt;br&gt;Processos: 1&lt;/div&gt;`)[0];\n",
       "                popup_b57df0641114ce356428a658a3ef7e85.setContent(html_986b0f9a34d4863a473db6b508e29f7e);\n",
       "            \n",
       "        \n",
       "\n",
       "        circle_marker_a733dd3af0338723e7dc0b999f262213.bindPopup(popup_b57df0641114ce356428a658a3ef7e85)\n",
       "        ;\n",
       "\n",
       "        \n",
       "    \n",
       "    \n",
       "            circle_marker_a733dd3af0338723e7dc0b999f262213.bindTooltip(\n",
       "                `&lt;div&gt;\n",
       "                     araraquara\n",
       "                 &lt;/div&gt;`,\n",
       "                {\n",
       "  &quot;sticky&quot;: true,\n",
       "}\n",
       "            );\n",
       "        \n",
       "    \n",
       "            var circle_marker_fd5cb4c2865f4c9a678ffd88e079e059 = L.circleMarker(\n",
       "                [-21.2755261957, -47.3099132478],\n",
       "                {&quot;bubblingMouseEvents&quot;: true, &quot;color&quot;: &quot;blue&quot;, &quot;dashArray&quot;: null, &quot;dashOffset&quot;: null, &quot;fill&quot;: true, &quot;fillColor&quot;: &quot;blue&quot;, &quot;fillOpacity&quot;: 0.6, &quot;fillRule&quot;: &quot;evenodd&quot;, &quot;lineCap&quot;: &quot;round&quot;, &quot;lineJoin&quot;: &quot;round&quot;, &quot;opacity&quot;: 1.0, &quot;radius&quot;: 3, &quot;stroke&quot;: true, &quot;weight&quot;: 3}\n",
       "            ).addTo(map_75b5e3a0319d7e50bb13355b36b6182a);\n",
       "        \n",
       "    \n",
       "        var popup_a575c0fe566763e522bb3f54143f9b7e = L.popup({\n",
       "  &quot;maxWidth&quot;: &quot;100%&quot;,\n",
       "});\n",
       "\n",
       "        \n",
       "            \n",
       "                var html_f6c59784aee9e6ad7dcefdc5203d3819 = $(`&lt;div id=&quot;html_f6c59784aee9e6ad7dcefdc5203d3819&quot; style=&quot;width: 100.0%; height: 100.0%;&quot;&gt;cajuru&lt;br&gt;Processos: 1&lt;/div&gt;`)[0];\n",
       "                popup_a575c0fe566763e522bb3f54143f9b7e.setContent(html_f6c59784aee9e6ad7dcefdc5203d3819);\n",
       "            \n",
       "        \n",
       "\n",
       "        circle_marker_fd5cb4c2865f4c9a678ffd88e079e059.bindPopup(popup_a575c0fe566763e522bb3f54143f9b7e)\n",
       "        ;\n",
       "\n",
       "        \n",
       "    \n",
       "    \n",
       "            circle_marker_fd5cb4c2865f4c9a678ffd88e079e059.bindTooltip(\n",
       "                `&lt;div&gt;\n",
       "                     cajuru\n",
       "                 &lt;/div&gt;`,\n",
       "                {\n",
       "  &quot;sticky&quot;: true,\n",
       "}\n",
       "            );\n",
       "        \n",
       "    \n",
       "            var circle_marker_bb921adf614f2dc3921b5ecfeb915bf1 = L.circleMarker(\n",
       "                [-22.9651856122, -48.0464892278],\n",
       "                {&quot;bubblingMouseEvents&quot;: true, &quot;color&quot;: &quot;blue&quot;, &quot;dashArray&quot;: null, &quot;dashOffset&quot;: null, &quot;fill&quot;: true, &quot;fillColor&quot;: &quot;blue&quot;, &quot;fillOpacity&quot;: 0.6, &quot;fillRule&quot;: &quot;evenodd&quot;, &quot;lineCap&quot;: &quot;round&quot;, &quot;lineJoin&quot;: &quot;round&quot;, &quot;opacity&quot;: 1.0, &quot;radius&quot;: 3, &quot;stroke&quot;: true, &quot;weight&quot;: 3}\n",
       "            ).addTo(map_75b5e3a0319d7e50bb13355b36b6182a);\n",
       "        \n",
       "    \n",
       "        var popup_419c5a4e59354fd5c9586b6b2191ea00 = L.popup({\n",
       "  &quot;maxWidth&quot;: &quot;100%&quot;,\n",
       "});\n",
       "\n",
       "        \n",
       "            \n",
       "                var html_bd8a226e768028d91d781ee6356b5657 = $(`&lt;div id=&quot;html_bd8a226e768028d91d781ee6356b5657&quot; style=&quot;width: 100.0%; height: 100.0%;&quot;&gt;conchas&lt;br&gt;Processos: 1&lt;/div&gt;`)[0];\n",
       "                popup_419c5a4e59354fd5c9586b6b2191ea00.setContent(html_bd8a226e768028d91d781ee6356b5657);\n",
       "            \n",
       "        \n",
       "\n",
       "        circle_marker_bb921adf614f2dc3921b5ecfeb915bf1.bindPopup(popup_419c5a4e59354fd5c9586b6b2191ea00)\n",
       "        ;\n",
       "\n",
       "        \n",
       "    \n",
       "    \n",
       "            circle_marker_bb921adf614f2dc3921b5ecfeb915bf1.bindTooltip(\n",
       "                `&lt;div&gt;\n",
       "                     conchas\n",
       "                 &lt;/div&gt;`,\n",
       "                {\n",
       "  &quot;sticky&quot;: true,\n",
       "}\n",
       "            );\n",
       "        \n",
       "    \n",
       "            var circle_marker_2d01fba7541e234196df7e8c29494cc6 = L.circleMarker(\n",
       "                [-22.5710815139, -49.1079047502],\n",
       "                {&quot;bubblingMouseEvents&quot;: true, &quot;color&quot;: &quot;blue&quot;, &quot;dashArray&quot;: null, &quot;dashOffset&quot;: null, &quot;fill&quot;: true, &quot;fillColor&quot;: &quot;blue&quot;, &quot;fillOpacity&quot;: 0.6, &quot;fillRule&quot;: &quot;evenodd&quot;, &quot;lineCap&quot;: &quot;round&quot;, &quot;lineJoin&quot;: &quot;round&quot;, &quot;opacity&quot;: 1.0, &quot;radius&quot;: 3, &quot;stroke&quot;: true, &quot;weight&quot;: 3}\n",
       "            ).addTo(map_75b5e3a0319d7e50bb13355b36b6182a);\n",
       "        \n",
       "    \n",
       "        var popup_1a1ffcf6380fc3f3cb1d8d0fafc67238 = L.popup({\n",
       "  &quot;maxWidth&quot;: &quot;100%&quot;,\n",
       "});\n",
       "\n",
       "        \n",
       "            \n",
       "                var html_2064f048fc39f82a159296235996a4ac = $(`&lt;div id=&quot;html_2064f048fc39f82a159296235996a4ac&quot; style=&quot;width: 100.0%; height: 100.0%;&quot;&gt;agudos&lt;br&gt;Processos: 1&lt;/div&gt;`)[0];\n",
       "                popup_1a1ffcf6380fc3f3cb1d8d0fafc67238.setContent(html_2064f048fc39f82a159296235996a4ac);\n",
       "            \n",
       "        \n",
       "\n",
       "        circle_marker_2d01fba7541e234196df7e8c29494cc6.bindPopup(popup_1a1ffcf6380fc3f3cb1d8d0fafc67238)\n",
       "        ;\n",
       "\n",
       "        \n",
       "    \n",
       "    \n",
       "            circle_marker_2d01fba7541e234196df7e8c29494cc6.bindTooltip(\n",
       "                `&lt;div&gt;\n",
       "                     agudos\n",
       "                 &lt;/div&gt;`,\n",
       "                {\n",
       "  &quot;sticky&quot;: true,\n",
       "}\n",
       "            );\n",
       "        \n",
       "    \n",
       "            var circle_marker_20b43f11972112f169ff86ed28cefd6d = L.circleMarker(\n",
       "                [-21.8551571456, -47.2496805314],\n",
       "                {&quot;bubblingMouseEvents&quot;: true, &quot;color&quot;: &quot;blue&quot;, &quot;dashArray&quot;: null, &quot;dashOffset&quot;: null, &quot;fill&quot;: true, &quot;fillColor&quot;: &quot;blue&quot;, &quot;fillOpacity&quot;: 0.6, &quot;fillRule&quot;: &quot;evenodd&quot;, &quot;lineCap&quot;: &quot;round&quot;, &quot;lineJoin&quot;: &quot;round&quot;, &quot;opacity&quot;: 1.0, &quot;radius&quot;: 3, &quot;stroke&quot;: true, &quot;weight&quot;: 3}\n",
       "            ).addTo(map_75b5e3a0319d7e50bb13355b36b6182a);\n",
       "        \n",
       "    \n",
       "        var popup_31414e8d6b4de0302deb1e366fb47344 = L.popup({\n",
       "  &quot;maxWidth&quot;: &quot;100%&quot;,\n",
       "});\n",
       "\n",
       "        \n",
       "            \n",
       "                var html_40c0f4f2e4ebadbe283606659b248eb3 = $(`&lt;div id=&quot;html_40c0f4f2e4ebadbe283606659b248eb3&quot; style=&quot;width: 100.0%; height: 100.0%;&quot;&gt;santa cruz das palmeiras&lt;br&gt;Processos: 1&lt;/div&gt;`)[0];\n",
       "                popup_31414e8d6b4de0302deb1e366fb47344.setContent(html_40c0f4f2e4ebadbe283606659b248eb3);\n",
       "            \n",
       "        \n",
       "\n",
       "        circle_marker_20b43f11972112f169ff86ed28cefd6d.bindPopup(popup_31414e8d6b4de0302deb1e366fb47344)\n",
       "        ;\n",
       "\n",
       "        \n",
       "    \n",
       "    \n",
       "            circle_marker_20b43f11972112f169ff86ed28cefd6d.bindTooltip(\n",
       "                `&lt;div&gt;\n",
       "                     santa cruz das palmeiras\n",
       "                 &lt;/div&gt;`,\n",
       "                {\n",
       "  &quot;sticky&quot;: true,\n",
       "}\n",
       "            );\n",
       "        \n",
       "    \n",
       "            var circle_marker_ccc640bb2446d19c9364017c8f5bbc90 = L.circleMarker(\n",
       "                [-22.5606173417, -47.1315883347],\n",
       "                {&quot;bubblingMouseEvents&quot;: true, &quot;color&quot;: &quot;blue&quot;, &quot;dashArray&quot;: null, &quot;dashOffset&quot;: null, &quot;fill&quot;: true, &quot;fillColor&quot;: &quot;blue&quot;, &quot;fillOpacity&quot;: 0.6, &quot;fillRule&quot;: &quot;evenodd&quot;, &quot;lineCap&quot;: &quot;round&quot;, &quot;lineJoin&quot;: &quot;round&quot;, &quot;opacity&quot;: 1.0, &quot;radius&quot;: 3, &quot;stroke&quot;: true, &quot;weight&quot;: 3}\n",
       "            ).addTo(map_75b5e3a0319d7e50bb13355b36b6182a);\n",
       "        \n",
       "    \n",
       "        var popup_50b10e4eecc7d46ca05b0d53ea9a796e = L.popup({\n",
       "  &quot;maxWidth&quot;: &quot;100%&quot;,\n",
       "});\n",
       "\n",
       "        \n",
       "            \n",
       "                var html_0982c714f61c9e058e8aaeacc02004fd = $(`&lt;div id=&quot;html_0982c714f61c9e058e8aaeacc02004fd&quot; style=&quot;width: 100.0%; height: 100.0%;&quot;&gt;artur nogueira&lt;br&gt;Processos: 1&lt;/div&gt;`)[0];\n",
       "                popup_50b10e4eecc7d46ca05b0d53ea9a796e.setContent(html_0982c714f61c9e058e8aaeacc02004fd);\n",
       "            \n",
       "        \n",
       "\n",
       "        circle_marker_ccc640bb2446d19c9364017c8f5bbc90.bindPopup(popup_50b10e4eecc7d46ca05b0d53ea9a796e)\n",
       "        ;\n",
       "\n",
       "        \n",
       "    \n",
       "    \n",
       "            circle_marker_ccc640bb2446d19c9364017c8f5bbc90.bindTooltip(\n",
       "                `&lt;div&gt;\n",
       "                     artur nogueira\n",
       "                 &lt;/div&gt;`,\n",
       "                {\n",
       "  &quot;sticky&quot;: true,\n",
       "}\n",
       "            );\n",
       "        \n",
       "    \n",
       "            var heat_map_e9cb3276991c9a23239da841771c898d = L.heatLayer(\n",
       "                [[-21.4252084884, -48.5373985293, 1], [-21.765074, -52.11114, 1], [-23.0353135, -49.1650519, 1], [-21.6494209351, -49.682865822, 1], [-22.4882793375, -52.8362663601, 1], [-21.7909198511, -48.1808390004, 1], [-21.2755261957, -47.3099132478, 1], [-22.9651856122, -48.0464892278, 1], [-22.5710815139, -49.1079047502, 1], [-21.8551571456, -47.2496805314, 1], [-22.5606173417, -47.1315883347, 1]],\n",
       "                {\n",
       "  &quot;minOpacity&quot;: 0.5,\n",
       "  &quot;maxZoom&quot;: 13,\n",
       "  &quot;radius&quot;: 20,\n",
       "  &quot;blur&quot;: 15,\n",
       "}\n",
       "            );\n",
       "        \n",
       "    \n",
       "            heat_map_e9cb3276991c9a23239da841771c898d.addTo(map_75b5e3a0319d7e50bb13355b36b6182a);\n",
       "        \n",
       "&lt;/script&gt;\n",
       "&lt;/html&gt;\" style=\"position:absolute;width:100%;height:100%;left:0;top:0;border:none !important;\" allowfullscreen webkitallowfullscreen mozallowfullscreen></iframe></div></div>"
      ],
      "text/plain": [
       "<folium.folium.Map at 0x3023bac90>"
      ]
     },
     "execution_count": 16,
     "metadata": {},
     "output_type": "execute_result"
    }
   ],
   "source": [
    "import folium\n",
    "from folium.plugins import HeatMap\n",
    "\n",
    "# Aggregate count of processos per comarca\n",
    "comarca_counts = df[\"Comarca\"].value_counts().to_dict()\n",
    "\n",
    "# Define min and max radius sizes\n",
    "min_radius = 3\n",
    "max_radius = 30\n",
    "\n",
    "# Compute max and min process count for scaling\n",
    "min_process_count = min(comarca_counts.values())\n",
    "max_process_count = max(comarca_counts.values())\n",
    "\n",
    "# Function to scale radius dynamically\n",
    "def scale_radius(process_count):\n",
    "    if max_process_count == min_process_count:\n",
    "        return min_radius  # Avoid division by zero if all values are the same\n",
    "    return min_radius + (max_radius - min_radius) * ((process_count - min_process_count) / (max_process_count - min_process_count))\n",
    "\n",
    "# Create a base map centered on São Paulo\n",
    "map = folium.Map(location=[-23.5505, -46.6333], zoom_start=7)\n",
    "\n",
    "# Add dynamically sized circle markers based on aggregated process count per comarca\n",
    "for _, row in df.iterrows():\n",
    "    comarca_name = row[\"Comarca\"]\n",
    "    process_count = comarca_counts.get(comarca_name, 0)  # Get aggregated count of processes\n",
    "    circle_radius = scale_radius(process_count)  # Scale dynamically\n",
    "\n",
    "    folium.CircleMarker(\n",
    "        location=[row[\"latitude\"], row[\"longitude\"]],\n",
    "        radius=circle_radius,  # Dynamic size based on process count\n",
    "        color=\"blue\",\n",
    "        fill=True,\n",
    "        fill_color=\"blue\",\n",
    "        fill_opacity=0.6,  # Adjust transparency\n",
    "        popup=f\"{comarca_name}<br>Processos: {process_count}\",\n",
    "        tooltip=comarca_name\n",
    "    ).add_to(map)\n",
    "\n",
    "# Add HeatMap\n",
    "heat_data = [[row[\"latitude\"], row[\"longitude\"], comarca_counts.get(row[\"Comarca\"], 0)] for _, row in df.iterrows()]\n",
    "HeatMap(heat_data, max_zoom=13, radius=20).add_to(map)\n",
    "\n",
    "# Display the map\n",
    "map\n"
   ]
  },
  {
   "cell_type": "markdown",
   "metadata": {},
   "source": [
    "#### **3.7. Relationship between Plaintiffs and Defendants**\n",
    "\n",
    "The Figure 7 shows the distribution of plaintiffs and defendants, separated by categories. The main findings include:\n",
    "- **Individuals** are the most frequent plaintiffs, mainly against **the State and private universities**.\n",
    "- **Associations and public bodies** also feature as active parties.\n"
   ]
  },
  {
   "cell_type": "code",
   "execution_count": 18,
   "metadata": {},
   "outputs": [
    {
     "data": {
      "application/vnd.plotly.v1+json": {
       "config": {
        "plotlyServerURL": "https://plot.ly"
       },
       "data": [
        {
         "name": "Pessoa Física",
         "type": "histogram",
         "x": [
          "Estado",
          "Escola Pública",
          "Pessoa Física",
          "Pessoa Física",
          "Estado",
          "Estado",
          "Estado",
          "Estado",
          "Pessoa Física",
          "Estado",
          "Estado"
         ],
         "xaxis": "x",
         "yaxis": "y"
        }
       ],
       "layout": {
        "annotations": [
         {
          "font": {
           "size": 16
          },
          "showarrow": false,
          "text": "Requerente: Pessoa Física",
          "x": 0.5,
          "xanchor": "center",
          "xref": "paper",
          "y": 1,
          "yanchor": "bottom",
          "yref": "paper"
         }
        ],
        "template": {
         "data": {
          "bar": [
           {
            "error_x": {
             "color": "#2a3f5f"
            },
            "error_y": {
             "color": "#2a3f5f"
            },
            "marker": {
             "line": {
              "color": "#E5ECF6",
              "width": 0.5
             },
             "pattern": {
              "fillmode": "overlay",
              "size": 10,
              "solidity": 0.2
             }
            },
            "type": "bar"
           }
          ],
          "barpolar": [
           {
            "marker": {
             "line": {
              "color": "#E5ECF6",
              "width": 0.5
             },
             "pattern": {
              "fillmode": "overlay",
              "size": 10,
              "solidity": 0.2
             }
            },
            "type": "barpolar"
           }
          ],
          "carpet": [
           {
            "aaxis": {
             "endlinecolor": "#2a3f5f",
             "gridcolor": "white",
             "linecolor": "white",
             "minorgridcolor": "white",
             "startlinecolor": "#2a3f5f"
            },
            "baxis": {
             "endlinecolor": "#2a3f5f",
             "gridcolor": "white",
             "linecolor": "white",
             "minorgridcolor": "white",
             "startlinecolor": "#2a3f5f"
            },
            "type": "carpet"
           }
          ],
          "choropleth": [
           {
            "colorbar": {
             "outlinewidth": 0,
             "ticks": ""
            },
            "type": "choropleth"
           }
          ],
          "contour": [
           {
            "colorbar": {
             "outlinewidth": 0,
             "ticks": ""
            },
            "colorscale": [
             [
              0,
              "#0d0887"
             ],
             [
              0.1111111111111111,
              "#46039f"
             ],
             [
              0.2222222222222222,
              "#7201a8"
             ],
             [
              0.3333333333333333,
              "#9c179e"
             ],
             [
              0.4444444444444444,
              "#bd3786"
             ],
             [
              0.5555555555555556,
              "#d8576b"
             ],
             [
              0.6666666666666666,
              "#ed7953"
             ],
             [
              0.7777777777777778,
              "#fb9f3a"
             ],
             [
              0.8888888888888888,
              "#fdca26"
             ],
             [
              1,
              "#f0f921"
             ]
            ],
            "type": "contour"
           }
          ],
          "contourcarpet": [
           {
            "colorbar": {
             "outlinewidth": 0,
             "ticks": ""
            },
            "type": "contourcarpet"
           }
          ],
          "heatmap": [
           {
            "colorbar": {
             "outlinewidth": 0,
             "ticks": ""
            },
            "colorscale": [
             [
              0,
              "#0d0887"
             ],
             [
              0.1111111111111111,
              "#46039f"
             ],
             [
              0.2222222222222222,
              "#7201a8"
             ],
             [
              0.3333333333333333,
              "#9c179e"
             ],
             [
              0.4444444444444444,
              "#bd3786"
             ],
             [
              0.5555555555555556,
              "#d8576b"
             ],
             [
              0.6666666666666666,
              "#ed7953"
             ],
             [
              0.7777777777777778,
              "#fb9f3a"
             ],
             [
              0.8888888888888888,
              "#fdca26"
             ],
             [
              1,
              "#f0f921"
             ]
            ],
            "type": "heatmap"
           }
          ],
          "heatmapgl": [
           {
            "colorbar": {
             "outlinewidth": 0,
             "ticks": ""
            },
            "colorscale": [
             [
              0,
              "#0d0887"
             ],
             [
              0.1111111111111111,
              "#46039f"
             ],
             [
              0.2222222222222222,
              "#7201a8"
             ],
             [
              0.3333333333333333,
              "#9c179e"
             ],
             [
              0.4444444444444444,
              "#bd3786"
             ],
             [
              0.5555555555555556,
              "#d8576b"
             ],
             [
              0.6666666666666666,
              "#ed7953"
             ],
             [
              0.7777777777777778,
              "#fb9f3a"
             ],
             [
              0.8888888888888888,
              "#fdca26"
             ],
             [
              1,
              "#f0f921"
             ]
            ],
            "type": "heatmapgl"
           }
          ],
          "histogram": [
           {
            "marker": {
             "pattern": {
              "fillmode": "overlay",
              "size": 10,
              "solidity": 0.2
             }
            },
            "type": "histogram"
           }
          ],
          "histogram2d": [
           {
            "colorbar": {
             "outlinewidth": 0,
             "ticks": ""
            },
            "colorscale": [
             [
              0,
              "#0d0887"
             ],
             [
              0.1111111111111111,
              "#46039f"
             ],
             [
              0.2222222222222222,
              "#7201a8"
             ],
             [
              0.3333333333333333,
              "#9c179e"
             ],
             [
              0.4444444444444444,
              "#bd3786"
             ],
             [
              0.5555555555555556,
              "#d8576b"
             ],
             [
              0.6666666666666666,
              "#ed7953"
             ],
             [
              0.7777777777777778,
              "#fb9f3a"
             ],
             [
              0.8888888888888888,
              "#fdca26"
             ],
             [
              1,
              "#f0f921"
             ]
            ],
            "type": "histogram2d"
           }
          ],
          "histogram2dcontour": [
           {
            "colorbar": {
             "outlinewidth": 0,
             "ticks": ""
            },
            "colorscale": [
             [
              0,
              "#0d0887"
             ],
             [
              0.1111111111111111,
              "#46039f"
             ],
             [
              0.2222222222222222,
              "#7201a8"
             ],
             [
              0.3333333333333333,
              "#9c179e"
             ],
             [
              0.4444444444444444,
              "#bd3786"
             ],
             [
              0.5555555555555556,
              "#d8576b"
             ],
             [
              0.6666666666666666,
              "#ed7953"
             ],
             [
              0.7777777777777778,
              "#fb9f3a"
             ],
             [
              0.8888888888888888,
              "#fdca26"
             ],
             [
              1,
              "#f0f921"
             ]
            ],
            "type": "histogram2dcontour"
           }
          ],
          "mesh3d": [
           {
            "colorbar": {
             "outlinewidth": 0,
             "ticks": ""
            },
            "type": "mesh3d"
           }
          ],
          "parcoords": [
           {
            "line": {
             "colorbar": {
              "outlinewidth": 0,
              "ticks": ""
             }
            },
            "type": "parcoords"
           }
          ],
          "pie": [
           {
            "automargin": true,
            "type": "pie"
           }
          ],
          "scatter": [
           {
            "fillpattern": {
             "fillmode": "overlay",
             "size": 10,
             "solidity": 0.2
            },
            "type": "scatter"
           }
          ],
          "scatter3d": [
           {
            "line": {
             "colorbar": {
              "outlinewidth": 0,
              "ticks": ""
             }
            },
            "marker": {
             "colorbar": {
              "outlinewidth": 0,
              "ticks": ""
             }
            },
            "type": "scatter3d"
           }
          ],
          "scattercarpet": [
           {
            "marker": {
             "colorbar": {
              "outlinewidth": 0,
              "ticks": ""
             }
            },
            "type": "scattercarpet"
           }
          ],
          "scattergeo": [
           {
            "marker": {
             "colorbar": {
              "outlinewidth": 0,
              "ticks": ""
             }
            },
            "type": "scattergeo"
           }
          ],
          "scattergl": [
           {
            "marker": {
             "colorbar": {
              "outlinewidth": 0,
              "ticks": ""
             }
            },
            "type": "scattergl"
           }
          ],
          "scattermapbox": [
           {
            "marker": {
             "colorbar": {
              "outlinewidth": 0,
              "ticks": ""
             }
            },
            "type": "scattermapbox"
           }
          ],
          "scatterpolar": [
           {
            "marker": {
             "colorbar": {
              "outlinewidth": 0,
              "ticks": ""
             }
            },
            "type": "scatterpolar"
           }
          ],
          "scatterpolargl": [
           {
            "marker": {
             "colorbar": {
              "outlinewidth": 0,
              "ticks": ""
             }
            },
            "type": "scatterpolargl"
           }
          ],
          "scatterternary": [
           {
            "marker": {
             "colorbar": {
              "outlinewidth": 0,
              "ticks": ""
             }
            },
            "type": "scatterternary"
           }
          ],
          "surface": [
           {
            "colorbar": {
             "outlinewidth": 0,
             "ticks": ""
            },
            "colorscale": [
             [
              0,
              "#0d0887"
             ],
             [
              0.1111111111111111,
              "#46039f"
             ],
             [
              0.2222222222222222,
              "#7201a8"
             ],
             [
              0.3333333333333333,
              "#9c179e"
             ],
             [
              0.4444444444444444,
              "#bd3786"
             ],
             [
              0.5555555555555556,
              "#d8576b"
             ],
             [
              0.6666666666666666,
              "#ed7953"
             ],
             [
              0.7777777777777778,
              "#fb9f3a"
             ],
             [
              0.8888888888888888,
              "#fdca26"
             ],
             [
              1,
              "#f0f921"
             ]
            ],
            "type": "surface"
           }
          ],
          "table": [
           {
            "cells": {
             "fill": {
              "color": "#EBF0F8"
             },
             "line": {
              "color": "white"
             }
            },
            "header": {
             "fill": {
              "color": "#C8D4E3"
             },
             "line": {
              "color": "white"
             }
            },
            "type": "table"
           }
          ]
         },
         "layout": {
          "annotationdefaults": {
           "arrowcolor": "#2a3f5f",
           "arrowhead": 0,
           "arrowwidth": 1
          },
          "autotypenumbers": "strict",
          "coloraxis": {
           "colorbar": {
            "outlinewidth": 0,
            "ticks": ""
           }
          },
          "colorscale": {
           "diverging": [
            [
             0,
             "#8e0152"
            ],
            [
             0.1,
             "#c51b7d"
            ],
            [
             0.2,
             "#de77ae"
            ],
            [
             0.3,
             "#f1b6da"
            ],
            [
             0.4,
             "#fde0ef"
            ],
            [
             0.5,
             "#f7f7f7"
            ],
            [
             0.6,
             "#e6f5d0"
            ],
            [
             0.7,
             "#b8e186"
            ],
            [
             0.8,
             "#7fbc41"
            ],
            [
             0.9,
             "#4d9221"
            ],
            [
             1,
             "#276419"
            ]
           ],
           "sequential": [
            [
             0,
             "#0d0887"
            ],
            [
             0.1111111111111111,
             "#46039f"
            ],
            [
             0.2222222222222222,
             "#7201a8"
            ],
            [
             0.3333333333333333,
             "#9c179e"
            ],
            [
             0.4444444444444444,
             "#bd3786"
            ],
            [
             0.5555555555555556,
             "#d8576b"
            ],
            [
             0.6666666666666666,
             "#ed7953"
            ],
            [
             0.7777777777777778,
             "#fb9f3a"
            ],
            [
             0.8888888888888888,
             "#fdca26"
            ],
            [
             1,
             "#f0f921"
            ]
           ],
           "sequentialminus": [
            [
             0,
             "#0d0887"
            ],
            [
             0.1111111111111111,
             "#46039f"
            ],
            [
             0.2222222222222222,
             "#7201a8"
            ],
            [
             0.3333333333333333,
             "#9c179e"
            ],
            [
             0.4444444444444444,
             "#bd3786"
            ],
            [
             0.5555555555555556,
             "#d8576b"
            ],
            [
             0.6666666666666666,
             "#ed7953"
            ],
            [
             0.7777777777777778,
             "#fb9f3a"
            ],
            [
             0.8888888888888888,
             "#fdca26"
            ],
            [
             1,
             "#f0f921"
            ]
           ]
          },
          "colorway": [
           "#636efa",
           "#EF553B",
           "#00cc96",
           "#ab63fa",
           "#FFA15A",
           "#19d3f3",
           "#FF6692",
           "#B6E880",
           "#FF97FF",
           "#FECB52"
          ],
          "font": {
           "color": "#2a3f5f"
          },
          "geo": {
           "bgcolor": "white",
           "lakecolor": "white",
           "landcolor": "#E5ECF6",
           "showlakes": true,
           "showland": true,
           "subunitcolor": "white"
          },
          "hoverlabel": {
           "align": "left"
          },
          "hovermode": "closest",
          "mapbox": {
           "style": "light"
          },
          "paper_bgcolor": "white",
          "plot_bgcolor": "#E5ECF6",
          "polar": {
           "angularaxis": {
            "gridcolor": "white",
            "linecolor": "white",
            "ticks": ""
           },
           "bgcolor": "#E5ECF6",
           "radialaxis": {
            "gridcolor": "white",
            "linecolor": "white",
            "ticks": ""
           }
          },
          "scene": {
           "xaxis": {
            "backgroundcolor": "#E5ECF6",
            "gridcolor": "white",
            "gridwidth": 2,
            "linecolor": "white",
            "showbackground": true,
            "ticks": "",
            "zerolinecolor": "white"
           },
           "yaxis": {
            "backgroundcolor": "#E5ECF6",
            "gridcolor": "white",
            "gridwidth": 2,
            "linecolor": "white",
            "showbackground": true,
            "ticks": "",
            "zerolinecolor": "white"
           },
           "zaxis": {
            "backgroundcolor": "#E5ECF6",
            "gridcolor": "white",
            "gridwidth": 2,
            "linecolor": "white",
            "showbackground": true,
            "ticks": "",
            "zerolinecolor": "white"
           }
          },
          "shapedefaults": {
           "line": {
            "color": "#2a3f5f"
           }
          },
          "ternary": {
           "aaxis": {
            "gridcolor": "white",
            "linecolor": "white",
            "ticks": ""
           },
           "baxis": {
            "gridcolor": "white",
            "linecolor": "white",
            "ticks": ""
           },
           "bgcolor": "#E5ECF6",
           "caxis": {
            "gridcolor": "white",
            "linecolor": "white",
            "ticks": ""
           }
          },
          "title": {
           "x": 0.05
          },
          "xaxis": {
           "automargin": true,
           "gridcolor": "white",
           "linecolor": "white",
           "ticks": "",
           "title": {
            "standoff": 15
           },
           "zerolinecolor": "white",
           "zerolinewidth": 2
          },
          "yaxis": {
           "automargin": true,
           "gridcolor": "white",
           "linecolor": "white",
           "ticks": "",
           "title": {
            "standoff": 15
           },
           "zerolinecolor": "white",
           "zerolinewidth": 2
          }
         }
        },
        "title": {
         "text": "Distribuição de Requerentes e Réus (Separado por Tipo de Requerente)"
        },
        "xaxis": {
         "anchor": "y",
         "categoryorder": "total descending",
         "domain": [
          0,
          1
         ]
        },
        "yaxis": {
         "anchor": "x",
         "domain": [
          0,
          1
         ]
        }
       }
      }
     },
     "metadata": {},
     "output_type": "display_data"
    }
   ],
   "source": [
    "import plotly.subplots as sp\n",
    "import plotly.graph_objects as go\n",
    "\n",
    "# Visualization: Creating separate graphs for different Requerente types\n",
    "df_req = df.dropna(subset=[\"Requerinte\"])\n",
    "\n",
    "unique_requerentes = df_req[\"Requerinte\"].unique()\n",
    "num_unique = len(unique_requerentes)\n",
    "\n",
    "# Determinar a grade de subplots dinamicamente\n",
    "rows = (num_unique // 2) + (num_unique % 2)  # Garante que haja linhas suficientes\n",
    "cols = 2 if num_unique > 1 else 1\n",
    "\n",
    "# Criar a figura com múltiplos subgráficos\n",
    "fig5 = sp.make_subplots(rows=rows, cols=cols, subplot_titles=[f\"Requerente: {req}\" for req in unique_requerentes])\n",
    "\n",
    "row, col = 1, 1\n",
    "for req in unique_requerentes:\n",
    "    subset = df[df[\"Requerinte\"] == req]\n",
    "    trace = go.Histogram(x=subset[\"Réu\"], name=req)\n",
    "    fig5.add_trace(trace, row=row, col=col)\n",
    "\n",
    "    # Ajustando linha e coluna corretamente\n",
    "    col += 1\n",
    "    if col > cols:\n",
    "        col = 1\n",
    "        row += 1\n",
    "\n",
    "# Atualizar layout da figura\n",
    "fig5.update_layout(title_text=\"Distribuição de Requerentes e Réus (Separado por Tipo de Requerente)\")\n",
    "fig5.update_xaxes(categoryorder='total descending')\n",
    "\n",
    "# Mostrar a figura\n",
    "fig5.show()"
   ]
  },
  {
   "cell_type": "code",
   "execution_count": 23,
   "metadata": {},
   "outputs": [
    {
     "data": {
      "text/html": [
       "<div>\n",
       "<style scoped>\n",
       "    .dataframe tbody tr th:only-of-type {\n",
       "        vertical-align: middle;\n",
       "    }\n",
       "\n",
       "    .dataframe tbody tr th {\n",
       "        vertical-align: top;\n",
       "    }\n",
       "\n",
       "    .dataframe thead th {\n",
       "        text-align: right;\n",
       "    }\n",
       "</style>\n",
       "<table border=\"1\" class=\"dataframe\">\n",
       "  <thead>\n",
       "    <tr style=\"text-align: right;\">\n",
       "      <th></th>\n",
       "      <th>Sentence Type</th>\n",
       "      <th>Absolute Frequency</th>\n",
       "      <th>Relative Frequency (%)</th>\n",
       "    </tr>\n",
       "  </thead>\n",
       "  <tbody>\n",
       "    <tr>\n",
       "      <th>0</th>\n",
       "      <td>procedente</td>\n",
       "      <td>7</td>\n",
       "      <td>63.636364</td>\n",
       "    </tr>\n",
       "    <tr>\n",
       "      <th>1</th>\n",
       "      <td>parcial</td>\n",
       "      <td>3</td>\n",
       "      <td>27.272727</td>\n",
       "    </tr>\n",
       "    <tr>\n",
       "      <th>2</th>\n",
       "      <td>improcedente</td>\n",
       "      <td>1</td>\n",
       "      <td>9.090909</td>\n",
       "    </tr>\n",
       "  </tbody>\n",
       "</table>\n",
       "</div>"
      ],
      "text/plain": [
       "  Sentence Type  Absolute Frequency  Relative Frequency (%)\n",
       "0    procedente                   7               63.636364\n",
       "1       parcial                   3               27.272727\n",
       "2  improcedente                   1                9.090909"
      ]
     },
     "execution_count": 23,
     "metadata": {},
     "output_type": "execute_result"
    }
   ],
   "source": [
    "df_sentenca"
   ]
  },
  {
   "cell_type": "code",
   "execution_count": 24,
   "metadata": {},
   "outputs": [
    {
     "name": "stdout",
     "output_type": "stream",
     "text": [
      "\n",
      "- The dataset contains a total of 11 processes.\n",
      "- The most common procedural class is \"Procedimento Comum Cível\", representing 54.5% of the cases.\n",
      "- The most common judicial subject is \"DIREITO PROCESSUAL CIVIL E DO TRABALHO\", being the subject of 18.2% of the processes.\n",
      "- Regarding the sentences, the \"procedente\" decision represents 63.6% of the total.\n",
      "- The comarca with the highest volume of processes is \"taquaritinga\", responding for 9.1% of the analyzed cases.\n",
      "\n"
     ]
    }
   ],
   "source": [
    "summary = f\"\"\"\n",
    "- The dataset contains a total of {len(df):,} processes.\n",
    "- The most common procedural class is \"{df_classes.iloc[0, 0]}\", representing {df_classes.iloc[0, 2]:.1f}% of the cases.\n",
    "- The most common judicial subject is \"{df['Assunto 1ª Instância'].mode()[0]}\", being the subject of {df['Assunto 1ª Instância'].value_counts(normalize=True).iloc[0] * 100:.1f}% of the processes.\n",
    "- Regarding the sentences, the \"procedente\" decision represents {df_sentenca[df_sentenca['Sentence Type'] == 'procedente']['Relative Frequency (%)'].values[0]:.1f}% of the total.\n",
    "- The comarca with the highest volume of processes is \"{df_comarca.iloc[0, 0]}\", responding for {df_comarca.iloc[0, 2]:.1f}% of the analyzed cases.\n",
    "\"\"\"\n",
    "\n",
    "print(summary)"
   ]
  },
  {
   "cell_type": "markdown",
   "metadata": {},
   "source": [
    "## **Conclusion**\n",
    "\n",
    "The exploratory data analysis revealed relevant patterns regarding the volume and distribution of the analyzed legal processes. The main findings include:\n",
    "\n",
    "- **Predominance of security writs and civil actions**, indicating demands focused on guaranteeing fundamental rights.\n",
    "- **Education and social assistance as recurring themes**, reinforcing the importance of the judiciary in defending social rights.\n",
    "- **High concentration of processes in the city of São Paulo**, reflecting its relevance in the legal scenario.\n",
    "- **Most sentences are procedent**, suggesting that the presented petitions have consistent grounds.\n",
    "- **Geospatial distribution reveals areas of high litigation**, contributing to possible future analyses on the decentralization of the judicial system.\n",
    "\n",
    "The obtained results provide a solid basis for the next stages of the study, including the application of topic modeling to identify latent patterns in the analyzed processes."
   ]
  }
 ],
 "metadata": {
  "kernelspec": {
   "display_name": ".venv",
   "language": "python",
   "name": "python3"
  },
  "language_info": {
   "codemirror_mode": {
    "name": "ipython",
    "version": 3
   },
   "file_extension": ".py",
   "mimetype": "text/x-python",
   "name": "python",
   "nbconvert_exporter": "python",
   "pygments_lexer": "ipython3",
   "version": "3.11.11"
  }
 },
 "nbformat": 4,
 "nbformat_minor": 4
}
